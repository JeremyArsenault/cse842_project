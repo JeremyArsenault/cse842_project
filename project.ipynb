{
 "cells": [
  {
   "cell_type": "code",
   "execution_count": 49,
   "id": "monetary-administration",
   "metadata": {},
   "outputs": [],
   "source": [
    "import pandas as pd\n",
    "import numpy as np\n",
    "import pickle as pkl\n",
    "import matplotlib.pyplot as plt\n",
    "import re\n",
    "from os import listdir\n",
    "from os.path import isfile, join\n",
    "from datasets import load_dataset"
   ]
  },
  {
   "cell_type": "markdown",
   "id": "precious-accreditation",
   "metadata": {},
   "source": [
    "## Data"
   ]
  },
  {
   "cell_type": "code",
   "execution_count": 4,
   "id": "fatal-configuration",
   "metadata": {},
   "outputs": [
    {
     "data": {
      "text/html": [
       "<div>\n",
       "<style scoped>\n",
       "    .dataframe tbody tr th:only-of-type {\n",
       "        vertical-align: middle;\n",
       "    }\n",
       "\n",
       "    .dataframe tbody tr th {\n",
       "        vertical-align: top;\n",
       "    }\n",
       "\n",
       "    .dataframe thead th {\n",
       "        text-align: right;\n",
       "    }\n",
       "</style>\n",
       "<table border=\"1\" class=\"dataframe\">\n",
       "  <thead>\n",
       "    <tr style=\"text-align: right;\">\n",
       "      <th></th>\n",
       "      <th>da</th>\n",
       "      <th>de</th>\n",
       "      <th>el</th>\n",
       "      <th>en</th>\n",
       "      <th>es</th>\n",
       "      <th>fr</th>\n",
       "      <th>fi</th>\n",
       "      <th>it</th>\n",
       "      <th>nl</th>\n",
       "      <th>pt</th>\n",
       "      <th>sv</th>\n",
       "    </tr>\n",
       "  </thead>\n",
       "  <tbody>\n",
       "    <tr>\n",
       "      <th>da</th>\n",
       "      <td>-</td>\n",
       "      <td>18.4</td>\n",
       "      <td>21.1</td>\n",
       "      <td>28.5</td>\n",
       "      <td>26.4</td>\n",
       "      <td>28.7</td>\n",
       "      <td>14.2</td>\n",
       "      <td>22.2</td>\n",
       "      <td>21.4</td>\n",
       "      <td>24.3</td>\n",
       "      <td>28.3</td>\n",
       "    </tr>\n",
       "    <tr>\n",
       "      <th>de</th>\n",
       "      <td>22.3</td>\n",
       "      <td>-</td>\n",
       "      <td>20.7</td>\n",
       "      <td>25.3</td>\n",
       "      <td>25.4</td>\n",
       "      <td>27.7</td>\n",
       "      <td>11.8</td>\n",
       "      <td>21.3</td>\n",
       "      <td>23.4</td>\n",
       "      <td>23.2</td>\n",
       "      <td>20.5</td>\n",
       "    </tr>\n",
       "    <tr>\n",
       "      <th>el</th>\n",
       "      <td>22.7</td>\n",
       "      <td>17.4</td>\n",
       "      <td>-</td>\n",
       "      <td>27.2</td>\n",
       "      <td>31.2</td>\n",
       "      <td>32.1</td>\n",
       "      <td>11.4</td>\n",
       "      <td>26.8</td>\n",
       "      <td>20.0</td>\n",
       "      <td>27.6</td>\n",
       "      <td>21.2</td>\n",
       "    </tr>\n",
       "    <tr>\n",
       "      <th>en</th>\n",
       "      <td>25.2</td>\n",
       "      <td>17.6</td>\n",
       "      <td>23.2</td>\n",
       "      <td>-</td>\n",
       "      <td>30.1</td>\n",
       "      <td>31.1</td>\n",
       "      <td>13.0</td>\n",
       "      <td>25.3</td>\n",
       "      <td>21.0</td>\n",
       "      <td>27.1</td>\n",
       "      <td>24.8</td>\n",
       "    </tr>\n",
       "    <tr>\n",
       "      <th>es</th>\n",
       "      <td>24.1</td>\n",
       "      <td>18.2</td>\n",
       "      <td>28.3</td>\n",
       "      <td>30.5</td>\n",
       "      <td>-</td>\n",
       "      <td>40.2</td>\n",
       "      <td>12.5</td>\n",
       "      <td>32.3</td>\n",
       "      <td>21.4</td>\n",
       "      <td>35.9</td>\n",
       "      <td>23.9</td>\n",
       "    </tr>\n",
       "    <tr>\n",
       "      <th>fr</th>\n",
       "      <td>23.7</td>\n",
       "      <td>18.5</td>\n",
       "      <td>26.1</td>\n",
       "      <td>30.0</td>\n",
       "      <td>38.4</td>\n",
       "      <td>-</td>\n",
       "      <td>12.6</td>\n",
       "      <td>32.4</td>\n",
       "      <td>21.1</td>\n",
       "      <td>35.3</td>\n",
       "      <td>22.6</td>\n",
       "    </tr>\n",
       "    <tr>\n",
       "      <th>fi</th>\n",
       "      <td>20.0</td>\n",
       "      <td>14.5</td>\n",
       "      <td>18.2</td>\n",
       "      <td>21.8</td>\n",
       "      <td>21.1</td>\n",
       "      <td>22.4</td>\n",
       "      <td>-</td>\n",
       "      <td>18.3</td>\n",
       "      <td>17.0</td>\n",
       "      <td>19.1</td>\n",
       "      <td>18.8</td>\n",
       "    </tr>\n",
       "    <tr>\n",
       "      <th>it</th>\n",
       "      <td>21.4</td>\n",
       "      <td>16.9</td>\n",
       "      <td>24.8</td>\n",
       "      <td>27.8</td>\n",
       "      <td>34.0</td>\n",
       "      <td>36.0</td>\n",
       "      <td>11.0</td>\n",
       "      <td>-</td>\n",
       "      <td>20.0</td>\n",
       "      <td>31.2</td>\n",
       "      <td>20.2</td>\n",
       "    </tr>\n",
       "    <tr>\n",
       "      <th>nl</th>\n",
       "      <td>20.5</td>\n",
       "      <td>18.3</td>\n",
       "      <td>17.4</td>\n",
       "      <td>23.0</td>\n",
       "      <td>22.9</td>\n",
       "      <td>24.6</td>\n",
       "      <td>10.3</td>\n",
       "      <td>20.0</td>\n",
       "      <td>-</td>\n",
       "      <td>20.7</td>\n",
       "      <td>19.0</td>\n",
       "    </tr>\n",
       "    <tr>\n",
       "      <th>pt</th>\n",
       "      <td>23.2</td>\n",
       "      <td>18.2</td>\n",
       "      <td>26.4</td>\n",
       "      <td>30.1</td>\n",
       "      <td>37.9</td>\n",
       "      <td>39.0</td>\n",
       "      <td>11.9</td>\n",
       "      <td>32.0</td>\n",
       "      <td>20.2</td>\n",
       "      <td>-</td>\n",
       "      <td>21.9</td>\n",
       "    </tr>\n",
       "    <tr>\n",
       "      <th>sv</th>\n",
       "      <td>30.3</td>\n",
       "      <td>18.9</td>\n",
       "      <td>22.8</td>\n",
       "      <td>30.2</td>\n",
       "      <td>28.6</td>\n",
       "      <td>29.7</td>\n",
       "      <td>15.3</td>\n",
       "      <td>23.9</td>\n",
       "      <td>21.9</td>\n",
       "      <td>25.9</td>\n",
       "      <td>-</td>\n",
       "    </tr>\n",
       "  </tbody>\n",
       "</table>\n",
       "</div>"
      ],
      "text/plain": [
       "      da    de    el    en    es    fr    fi    it    nl    pt    sv\n",
       "da     -  18.4  21.1  28.5  26.4  28.7  14.2  22.2  21.4  24.3  28.3\n",
       "de  22.3     -  20.7  25.3  25.4  27.7  11.8  21.3  23.4  23.2  20.5\n",
       "el  22.7  17.4     -  27.2  31.2  32.1  11.4  26.8  20.0  27.6  21.2\n",
       "en  25.2  17.6  23.2     -  30.1  31.1  13.0  25.3  21.0  27.1  24.8\n",
       "es  24.1  18.2  28.3  30.5     -  40.2  12.5  32.3  21.4  35.9  23.9\n",
       "fr  23.7  18.5  26.1  30.0  38.4     -  12.6  32.4  21.1  35.3  22.6\n",
       "fi  20.0  14.5  18.2  21.8  21.1  22.4     -  18.3  17.0  19.1  18.8\n",
       "it  21.4  16.9  24.8  27.8  34.0  36.0  11.0     -  20.0  31.2  20.2\n",
       "nl  20.5  18.3  17.4  23.0  22.9  24.6  10.3  20.0     -  20.7  19.0\n",
       "pt  23.2  18.2  26.4  30.1  37.9  39.0  11.9  32.0  20.2     -  21.9\n",
       "sv  30.3  18.9  22.8  30.2  28.6  29.7  15.3  23.9  21.9  25.9     -"
      ]
     },
     "execution_count": 4,
     "metadata": {},
     "output_type": "execute_result"
    }
   ],
   "source": [
    "# translation data https://aclanthology.org/2005.mtsummit-papers.11/\n",
    "languages = 'da de el en es fr fi it nl pt sv'\n",
    "bleu_data = \\\n",
    "'''- 18.4 21.1 28.5 26.4 28.7 14.2 22.2 21.4 24.3 28.3\n",
    "22.3 - 20.7 25.3 25.4 27.7 11.8 21.3 23.4 23.2 20.5\n",
    "22.7 17.4 - 27.2 31.2 32.1 11.4 26.8 20.0 27.6 21.2\n",
    "25.2 17.6 23.2 - 30.1 31.1 13.0 25.3 21.0 27.1 24.8\n",
    "24.1 18.2 28.3 30.5 - 40.2 12.5 32.3 21.4 35.9 23.9\n",
    "23.7 18.5 26.1 30.0 38.4 - 12.6 32.4 21.1 35.3 22.6\n",
    "20.0 14.5 18.2 21.8 21.1 22.4 - 18.3 17.0 19.1 18.8\n",
    "21.4 16.9 24.8 27.8 34.0 36.0 11.0 - 20.0 31.2 20.2\n",
    "20.5 18.3 17.4 23.0 22.9 24.6 10.3 20.0 - 20.7 19.0\n",
    "23.2 18.2 26.4 30.1 37.9 39.0 11.9 32.0 20.2 - 21.9\n",
    "30.3 18.9 22.8 30.2 28.6 29.7 15.3 23.9 21.9 25.9 -'''\n",
    "\n",
    "df_bleu = pd.DataFrame([r.split(' ') for r in bleu_data.split('\\n')], dtype=float, columns=languages.split(' '), index=languages.split(' '))\n",
    "df_bleu"
   ]
  },
  {
   "cell_type": "code",
   "execution_count": 145,
   "id": "middle-recommendation",
   "metadata": {},
   "outputs": [
    {
     "data": {
      "text/html": [
       "<div>\n",
       "<style scoped>\n",
       "    .dataframe tbody tr th:only-of-type {\n",
       "        vertical-align: middle;\n",
       "    }\n",
       "\n",
       "    .dataframe tbody tr th {\n",
       "        vertical-align: top;\n",
       "    }\n",
       "\n",
       "    .dataframe thead th {\n",
       "        text-align: right;\n",
       "    }\n",
       "</style>\n",
       "<table border=\"1\" class=\"dataframe\">\n",
       "  <thead>\n",
       "    <tr style=\"text-align: right;\">\n",
       "      <th></th>\n",
       "      <th>da</th>\n",
       "      <th>de</th>\n",
       "      <th>el</th>\n",
       "      <th>en</th>\n",
       "      <th>es</th>\n",
       "      <th>fr</th>\n",
       "      <th>fi</th>\n",
       "      <th>it</th>\n",
       "      <th>nl</th>\n",
       "      <th>pt</th>\n",
       "      <th>sv</th>\n",
       "    </tr>\n",
       "  </thead>\n",
       "  <tbody>\n",
       "    <tr>\n",
       "      <th>da</th>\n",
       "      <td>-</td>\n",
       "      <td>31.29</td>\n",
       "      <td>23.63</td>\n",
       "      <td>41.08</td>\n",
       "      <td>24.05</td>\n",
       "      <td>36.95</td>\n",
       "      <td>24.27</td>\n",
       "      <td>25.8</td>\n",
       "      <td>26.32</td>\n",
       "      <td>35.93</td>\n",
       "      <td>39.45</td>\n",
       "    </tr>\n",
       "    <tr>\n",
       "      <th>de</th>\n",
       "      <td>34.07</td>\n",
       "      <td>-</td>\n",
       "      <td>22.76</td>\n",
       "      <td>35.83</td>\n",
       "      <td>23.35</td>\n",
       "      <td>35.47</td>\n",
       "      <td>22.57</td>\n",
       "      <td>25.86</td>\n",
       "      <td>25.83</td>\n",
       "      <td>34.03</td>\n",
       "      <td>33.16</td>\n",
       "    </tr>\n",
       "    <tr>\n",
       "      <th>el</th>\n",
       "      <td>25.15</td>\n",
       "      <td>21.93</td>\n",
       "      <td>-</td>\n",
       "      <td>28.12</td>\n",
       "      <td>20.69</td>\n",
       "      <td>30.17</td>\n",
       "      <td>18.21</td>\n",
       "      <td>21.71</td>\n",
       "      <td>19.48</td>\n",
       "      <td>28.42</td>\n",
       "      <td>23.98</td>\n",
       "    </tr>\n",
       "    <tr>\n",
       "      <th>en</th>\n",
       "      <td>41.12</td>\n",
       "      <td>32.56</td>\n",
       "      <td>26.19</td>\n",
       "      <td>-</td>\n",
       "      <td>25.57</td>\n",
       "      <td>41.99</td>\n",
       "      <td>24.23</td>\n",
       "      <td>27.74</td>\n",
       "      <td>26.82</td>\n",
       "      <td>44.84</td>\n",
       "      <td>40.23</td>\n",
       "    </tr>\n",
       "    <tr>\n",
       "      <th>es</th>\n",
       "      <td>24.82</td>\n",
       "      <td>21.04</td>\n",
       "      <td>20.61</td>\n",
       "      <td>25.09</td>\n",
       "      <td>-</td>\n",
       "      <td>29.33</td>\n",
       "      <td>17.9</td>\n",
       "      <td>23.87</td>\n",
       "      <td>19.52</td>\n",
       "      <td>28.1</td>\n",
       "      <td>23.1</td>\n",
       "    </tr>\n",
       "    <tr>\n",
       "      <th>fr</th>\n",
       "      <td>32.96</td>\n",
       "      <td>28.53</td>\n",
       "      <td>23.88</td>\n",
       "      <td>37.17</td>\n",
       "      <td>25.6</td>\n",
       "      <td>-</td>\n",
       "      <td>21.86</td>\n",
       "      <td>28.56</td>\n",
       "      <td>24.51</td>\n",
       "      <td>37.84</td>\n",
       "      <td>31.36</td>\n",
       "    </tr>\n",
       "    <tr>\n",
       "      <th>fi</th>\n",
       "      <td>26.6</td>\n",
       "      <td>23.04</td>\n",
       "      <td>19.73</td>\n",
       "      <td>27.16</td>\n",
       "      <td>19.93</td>\n",
       "      <td>29.29</td>\n",
       "      <td>-</td>\n",
       "      <td>21.02</td>\n",
       "      <td>21.52</td>\n",
       "      <td>27.49</td>\n",
       "      <td>27.25</td>\n",
       "    </tr>\n",
       "    <tr>\n",
       "      <th>it</th>\n",
       "      <td>27.56</td>\n",
       "      <td>24.2</td>\n",
       "      <td>22.09</td>\n",
       "      <td>28.74</td>\n",
       "      <td>24.52</td>\n",
       "      <td>34.39</td>\n",
       "      <td>19.46</td>\n",
       "      <td>-</td>\n",
       "      <td>21.99</td>\n",
       "      <td>31.47</td>\n",
       "      <td>26.42</td>\n",
       "    </tr>\n",
       "    <tr>\n",
       "      <th>nl</th>\n",
       "      <td>26.15</td>\n",
       "      <td>23.06</td>\n",
       "      <td>18.89</td>\n",
       "      <td>27.7</td>\n",
       "      <td>19.8</td>\n",
       "      <td>28.82</td>\n",
       "      <td>18.65</td>\n",
       "      <td>21.33</td>\n",
       "      <td>-</td>\n",
       "      <td>26.93</td>\n",
       "      <td>25.54</td>\n",
       "    </tr>\n",
       "    <tr>\n",
       "      <th>pt</th>\n",
       "      <td>33.82</td>\n",
       "      <td>28.38</td>\n",
       "      <td>24.65</td>\n",
       "      <td>41.53</td>\n",
       "      <td>26.88</td>\n",
       "      <td>40.17</td>\n",
       "      <td>22.28</td>\n",
       "      <td>28.09</td>\n",
       "      <td>24.49</td>\n",
       "      <td>-</td>\n",
       "      <td>32.68</td>\n",
       "    </tr>\n",
       "    <tr>\n",
       "      <th>sv</th>\n",
       "      <td>39.53</td>\n",
       "      <td>30.33</td>\n",
       "      <td>23.23</td>\n",
       "      <td>40.05</td>\n",
       "      <td>23.55</td>\n",
       "      <td>36.67</td>\n",
       "      <td>24.52</td>\n",
       "      <td>25.54</td>\n",
       "      <td>26.03</td>\n",
       "      <td>35.87</td>\n",
       "      <td>-</td>\n",
       "    </tr>\n",
       "  </tbody>\n",
       "</table>\n",
       "</div>"
      ],
      "text/plain": [
       "       da     de     el     en     es     fr     fi     it     nl     pt  \\\n",
       "da      -  31.29  23.63  41.08  24.05  36.95  24.27   25.8  26.32  35.93   \n",
       "de  34.07      -  22.76  35.83  23.35  35.47  22.57  25.86  25.83  34.03   \n",
       "el  25.15  21.93      -  28.12  20.69  30.17  18.21  21.71  19.48  28.42   \n",
       "en  41.12  32.56  26.19      -  25.57  41.99  24.23  27.74  26.82  44.84   \n",
       "es  24.82  21.04  20.61  25.09      -  29.33   17.9  23.87  19.52   28.1   \n",
       "fr  32.96  28.53  23.88  37.17   25.6      -  21.86  28.56  24.51  37.84   \n",
       "fi   26.6  23.04  19.73  27.16  19.93  29.29      -  21.02  21.52  27.49   \n",
       "it  27.56   24.2  22.09  28.74  24.52  34.39  19.46      -  21.99  31.47   \n",
       "nl  26.15  23.06  18.89   27.7   19.8  28.82  18.65  21.33      -  26.93   \n",
       "pt  33.82  28.38  24.65  41.53  26.88  40.17  22.28  28.09  24.49      -   \n",
       "sv  39.53  30.33  23.23  40.05  23.55  36.67  24.52  25.54  26.03  35.87   \n",
       "\n",
       "       sv  \n",
       "da  39.45  \n",
       "de  33.16  \n",
       "el  23.98  \n",
       "en  40.23  \n",
       "es   23.1  \n",
       "fr  31.36  \n",
       "fi  27.25  \n",
       "it  26.42  \n",
       "nl  25.54  \n",
       "pt  32.68  \n",
       "sv      -  "
      ]
     },
     "execution_count": 145,
     "metadata": {},
     "output_type": "execute_result"
    }
   ],
   "source": [
    "languages_3cd = 'dan deu ell eng spa fra fin ita nld por swe'.split()\n",
    "df_spbleu = pd.read_csv('translation_scores.csv', index_col=0, sep=' ')\n",
    "df_spbleu = df_spbleu[languages_3cd].loc[languages_3cd]\n",
    "df_spbleu.columns = languages.split()\n",
    "df_spbleu.index = languages.split()\n",
    "df_spbleu"
   ]
  },
  {
   "cell_type": "code",
   "execution_count": 7,
   "id": "median-occupation",
   "metadata": {},
   "outputs": [
    {
     "data": {
      "text/plain": [
       "789638"
      ]
     },
     "execution_count": 7,
     "metadata": {},
     "output_type": "execute_result"
    }
   ],
   "source": [
    "# bible corpus https://github.com/christos-c/bible-corpus\n",
    "def bible_sentences(lang):\n",
    "    with open(f\"bible_xml/{lang}.txt\", 'r') as f:\n",
    "        data = f.read()\n",
    "\n",
    "    data = re.sub('[0-9/\\-\\(\\):;,.?!\"]', '', data) # no special chars\n",
    "    data = data.lower().split('\\n')\n",
    "    return data\n",
    "    \n",
    "def bible_words(lang):\n",
    "    text = ' '.join(bible_sentences(lang))\n",
    "    words = text.split(' ')\n",
    "    return words\n",
    "\n",
    "len(bible_words('en'))"
   ]
  },
  {
   "cell_type": "code",
   "execution_count": 44,
   "id": "recognized-punishment",
   "metadata": {},
   "outputs": [
    {
     "data": {
      "text/plain": [
       "53242896"
      ]
     },
     "execution_count": 44,
     "metadata": {},
     "output_type": "execute_result"
    }
   ],
   "source": [
    "# europarl corpus https://www.statmt.org/europarl/archives.html\n",
    "def _europarl_filenames(lang):\n",
    "    base_path = f\"europarl/txt/{lang}/\"\n",
    "    files = [base_path+f for f in listdir(base_path) if isfile(join(base_path, f))]\n",
    "    files = sorted(files)\n",
    "    return files\n",
    "\n",
    "def europarl_sentences(lang):\n",
    "    files = _europarl_filenames(lang)\n",
    "    all_data = []\n",
    "    for f in files:\n",
    "        with open(f, 'r') as f:\n",
    "            data = f.read()\n",
    "\n",
    "        data = re.sub('<[^<]+?>', '', data) # remove tags\n",
    "\n",
    "        data = re.sub('[0-9/!?]', '.', data) # end of sentence\n",
    "        data = re.sub('[0-9/\\-\\(\\):,\"]', '', data) # no special chars\n",
    "        data = data.lower().split('.')\n",
    "        all_data += data\n",
    "    return all_data\n",
    "    \n",
    "def europarl_words(lang):\n",
    "    text = ' '.join(europarl_sentences(lang))\n",
    "    words = text.split(' ')\n",
    "    return words\n",
    "\n",
    "len(europarl_words('en'))"
   ]
  },
  {
   "cell_type": "code",
   "execution_count": 54,
   "id": "written-supply",
   "metadata": {},
   "outputs": [
    {
     "name": "stderr",
     "output_type": "stream",
     "text": [
      "Using custom data configuration unshuffled_deduplicated_en-language=en\n"
     ]
    },
    {
     "data": {
      "text/plain": [
       "409958"
      ]
     },
     "execution_count": 54,
     "metadata": {},
     "output_type": "execute_result"
    }
   ],
   "source": [
    "# oscar open-crawled-corpus https://huggingface.co/datasets/oscar\n",
    "def oscar_sentences(lang, max_sentences=20000):\n",
    "    sentences = []\n",
    "    d = load_dataset(\"oscar\", language=lang, streaming=True)\n",
    "    for data in d['train']:\n",
    "        text = data['text']\n",
    "        text = re.sub('[0-9]/\\-\\(\\):;,\\n\"]', '', text) # no special chars\n",
    "        text = re.sub('[!?]', '.', text) # end of sentence\n",
    "        sentences += text.lower().split('.')\n",
    "        if len(sentences)>max_sentences:\n",
    "            break\n",
    "    return sentences\n",
    "    \n",
    "def oscar_words(lang):\n",
    "    text = ' '.join(oscar_sentences(lang))\n",
    "    words = text.split(' ')\n",
    "    return words\n",
    "\n",
    "len(oscar_words('en'))"
   ]
  },
  {
   "cell_type": "markdown",
   "id": "accompanied-reading",
   "metadata": {},
   "source": [
    "## Entropy Estimators"
   ]
  },
  {
   "cell_type": "code",
   "execution_count": 8,
   "id": "loaded-meditation",
   "metadata": {},
   "outputs": [
    {
     "data": {
      "text/plain": [
       "25.89570735529012092031427306969148387328"
      ]
     },
     "execution_count": 8,
     "metadata": {},
     "output_type": "execute_result"
    }
   ],
   "source": [
    "# nsb entropy (iid)\n",
    "# https://gist.github.com/shhong/1021654\n",
    "import nsb_entropy as nsb\n",
    "\n",
    "def nsb_entropy(corp,\n",
    "                ):\n",
    "    # build histogram\n",
    "    vocab = {w:i for i,w in enumerate(set(corp))}\n",
    "    \n",
    "    hist = np.zeros(len(vocab))\n",
    "    for w in corp: # words\n",
    "        hist[vocab[w]] += 1\n",
    "\n",
    "    nxkx = nsb.make_nxkx(hist, len(hist))\n",
    "    H = nsb.S(nxkx, hist.sum(), len(nxkx))\n",
    "    return H\n",
    "    \n",
    "nsb_entropy(bible_words('en')[:1000])"
   ]
  },
  {
   "cell_type": "code",
   "execution_count": 28,
   "id": "instructional-fluid",
   "metadata": {},
   "outputs": [
    {
     "data": {
      "text/plain": [
       "1.7992598784580365"
      ]
     },
     "execution_count": 28,
     "metadata": {},
     "output_type": "execute_result"
    }
   ],
   "source": [
    "# source entropy (increasing window)\n",
    "# https://www.dam.brown.edu/people/elie/papers/Gao%20Kontoyiannis%20Bienenstock%20Estimating%20the%20entropy%20of%20binary%20time%20series.pdf\n",
    "\n",
    "def lz_entropy(corp,\n",
    "               ):\n",
    "    ls = 0\n",
    "    for i in range(1,len(corp)): # for each position\n",
    "        l = 1\n",
    "        for j in range(i): # increasing window\n",
    "            lj = 0\n",
    "            # while lj<window_size and corp[(i+lj)%len(corp)]==corp[(j+lj)%len(corp)]: # wraps around\n",
    "            while (i+lj<len(corp)) and (corp[i+lj]==corp[j+lj]): \n",
    "                lj += 1\n",
    "            l = max(l, lj+1)\n",
    "        ls += l / np.log(i+1)\n",
    "    H = len(corp)/ls \n",
    "    return H\n",
    "\n",
    "lz_entropy(bible_words('en')[:1000])"
   ]
  },
  {
   "cell_type": "code",
   "execution_count": 146,
   "id": "cardiovascular-sterling",
   "metadata": {},
   "outputs": [],
   "source": [
    "# fn for getting entropies and entropy ratios\n",
    "def calculate_entropy(corp_fn, h_fn, n_words, kwargs={}):\n",
    "    lang_h = {}\n",
    "    for lang in languages.split():\n",
    "        corp = corp_fn(lang)[:n_words]\n",
    "        lang_h[lang] = h_fn(corp, **kwargs)\n",
    "        \n",
    "    h_r = []\n",
    "    for l1 in languages.split():\n",
    "        for l2 in languages.split():\n",
    "            if l1 != l2:\n",
    "                h_r.append(lang_h[l2] / lang_h[l1])\n",
    "\n",
    "    return lang_h, np.array(h_r).astype(float)\n",
    "\n",
    "# machine translation \n",
    "bleu, spbleu = [], []\n",
    "for l1 in languages.split():\n",
    "    for l2 in languages.split():\n",
    "        if l1 != l2:\n",
    "            bleu.append(float(df_bleu[l1][l2]))\n",
    "            spbleu.append(float(df_spbleu[l1][l2]))\n",
    "bleu = np.array(bleu).astype(float)\n",
    "spbleu = np.array(spbleu).astype(float)"
   ]
  },
  {
   "cell_type": "code",
   "execution_count": 30,
   "id": "monetary-patio",
   "metadata": {},
   "outputs": [],
   "source": [
    "# recreate paper results\n",
    "# https://arxiv.org/pdf/1606.06996.pdf\n",
    "nsb_bib_h, nsb_bib_r = calculate_entropy(bible_words, nsb_entropy, n_words=50000)\n",
    "lz_bib_h, lz_bib_r = calculate_entropy(bible_words, lz_entropy, n_words=50000)"
   ]
  },
  {
   "cell_type": "code",
   "execution_count": 148,
   "id": "eleven-rugby",
   "metadata": {},
   "outputs": [
    {
     "data": {
      "image/png": "[encoded data removed]",
      "text/plain": [
       "<Figure size 864x360 with 2 Axes>"
      ]
     },
     "metadata": {
      "needs_background": "light"
     },
     "output_type": "display_data"
    },
    {
     "name": "stdout",
     "output_type": "stream",
     "text": [
      "bleu,   nsb    : r= 0.2206436788924921\n",
      "bleu,   lz     : r= 0.209293763950709\n",
      "\n",
      "spbleu, nsb    : r= 0.09771377832839717\n",
      "spbleu, lz     : r= 0.08595298923225952\n"
     ]
    },
    {
     "data": {
      "text/html": [
       "<div>\n",
       "<style scoped>\n",
       "    .dataframe tbody tr th:only-of-type {\n",
       "        vertical-align: middle;\n",
       "    }\n",
       "\n",
       "    .dataframe tbody tr th {\n",
       "        vertical-align: top;\n",
       "    }\n",
       "\n",
       "    .dataframe thead th {\n",
       "        text-align: right;\n",
       "    }\n",
       "</style>\n",
       "<table border=\"1\" class=\"dataframe\">\n",
       "  <thead>\n",
       "    <tr style=\"text-align: right;\">\n",
       "      <th></th>\n",
       "      <th>nsb</th>\n",
       "      <th>lz</th>\n",
       "    </tr>\n",
       "  </thead>\n",
       "  <tbody>\n",
       "    <tr>\n",
       "      <th>nsb</th>\n",
       "      <td>1.00000</td>\n",
       "      <td>0.99283</td>\n",
       "    </tr>\n",
       "    <tr>\n",
       "      <th>lz</th>\n",
       "      <td>0.99283</td>\n",
       "      <td>1.00000</td>\n",
       "    </tr>\n",
       "  </tbody>\n",
       "</table>\n",
       "</div>"
      ],
      "text/plain": [
       "         nsb       lz\n",
       "nsb  1.00000  0.99283\n",
       "lz   0.99283  1.00000"
      ]
     },
     "metadata": {},
     "output_type": "display_data"
    }
   ],
   "source": [
    "def entropy_entropy_ratio(hs):\n",
    "    df_h = pd.DataFrame({n:[float(h[l]) for l in languages.split()] for n,h in hs})\n",
    "    display(df_h.corr())\n",
    "\n",
    "def entropy_bleu_ratio(rs, corpus_nm):    \n",
    "    fig, axs = plt.subplots(1, len(rs), figsize=(6*len(rs),5))\n",
    "    if len(rs)==1:\n",
    "        axs = [axs]\n",
    "    for ax, (n,r) in zip(axs, rs):\n",
    "        ax.scatter(bleu, r)\n",
    "        ax.set_xlabel('Translation Score (BLEU)')\n",
    "        ax.set_ylabel(f'{n} Entropy Ratio')\n",
    "    fig.suptitle(corpus_nm)\n",
    "    plt.show()\n",
    "    \n",
    "    for n,r in rs:\n",
    "        print(f'bleu,   {n:<6} : r=',np.corrcoef(bleu, r)[0,1])\n",
    "    print()\n",
    "    for n,r in rs:\n",
    "        print(f'spbleu, {n:<6} : r=',np.corrcoef(spbleu, r)[0,1])\n",
    "    \n",
    "entropy_bleu_ratio([('nsb',nsb_bib_r),('lz',lz_bib_r)], 'Bible')\n",
    "entropy_entropy_ratio([('nsb',nsb_bib_h),('lz',lz_bib_h)])"
   ]
  },
  {
   "cell_type": "code",
   "execution_count": 45,
   "id": "bronze-script",
   "metadata": {},
   "outputs": [],
   "source": [
    "nsb_eur_h, nsb_eur_r = calculate_entropy(europarl_words, nsb_entropy, n_words=50000)\n",
    "lz_eur_h, lz_eur_r = calculate_entropy(europarl_words, lz_entropy, n_words=50000)"
   ]
  },
  {
   "cell_type": "code",
   "execution_count": 149,
   "id": "inner-batman",
   "metadata": {},
   "outputs": [
    {
     "data": {
      "image/png": "[encoded data removed]",
      "text/plain": [
       "<Figure size 864x360 with 2 Axes>"
      ]
     },
     "metadata": {
      "needs_background": "light"
     },
     "output_type": "display_data"
    },
    {
     "name": "stdout",
     "output_type": "stream",
     "text": [
      "bleu,   nsb    : r= 0.11590144610602178\n",
      "bleu,   lz     : r= 0.1186182146770187\n",
      "\n",
      "spbleu, nsb    : r= 0.03265448798222369\n",
      "spbleu, lz     : r= 0.055267527518202963\n"
     ]
    },
    {
     "data": {
      "text/html": [
       "<div>\n",
       "<style scoped>\n",
       "    .dataframe tbody tr th:only-of-type {\n",
       "        vertical-align: middle;\n",
       "    }\n",
       "\n",
       "    .dataframe tbody tr th {\n",
       "        vertical-align: top;\n",
       "    }\n",
       "\n",
       "    .dataframe thead th {\n",
       "        text-align: right;\n",
       "    }\n",
       "</style>\n",
       "<table border=\"1\" class=\"dataframe\">\n",
       "  <thead>\n",
       "    <tr style=\"text-align: right;\">\n",
       "      <th></th>\n",
       "      <th>nsb</th>\n",
       "      <th>lz</th>\n",
       "    </tr>\n",
       "  </thead>\n",
       "  <tbody>\n",
       "    <tr>\n",
       "      <th>nsb</th>\n",
       "      <td>1.000000</td>\n",
       "      <td>0.730653</td>\n",
       "    </tr>\n",
       "    <tr>\n",
       "      <th>lz</th>\n",
       "      <td>0.730653</td>\n",
       "      <td>1.000000</td>\n",
       "    </tr>\n",
       "  </tbody>\n",
       "</table>\n",
       "</div>"
      ],
      "text/plain": [
       "          nsb        lz\n",
       "nsb  1.000000  0.730653\n",
       "lz   0.730653  1.000000"
      ]
     },
     "metadata": {},
     "output_type": "display_data"
    }
   ],
   "source": [
    "entropy_bleu_ratio([('nsb',nsb_eur_r),('lz',lz_eur_r)], 'Europarl')\n",
    "entropy_entropy_ratio([('nsb',nsb_eur_h),('lz',lz_eur_h)])"
   ]
  },
  {
   "cell_type": "code",
   "execution_count": 55,
   "id": "civilian-disco",
   "metadata": {
    "collapsed": true,
    "jupyter": {
     "outputs_hidden": true
    },
    "tags": []
   },
   "outputs": [
    {
     "name": "stderr",
     "output_type": "stream",
     "text": [
      "Using custom data configuration unshuffled_deduplicated_da-language=da\n",
      "Using custom data configuration unshuffled_deduplicated_de-language=de\n",
      "Using custom data configuration unshuffled_deduplicated_el-language=el\n",
      "Using custom data configuration unshuffled_deduplicated_en-language=en\n",
      "Using custom data configuration unshuffled_deduplicated_es-language=es\n",
      "Using custom data configuration unshuffled_deduplicated_fr-language=fr\n",
      "Using custom data configuration unshuffled_deduplicated_fi-language=fi\n",
      "Using custom data configuration unshuffled_deduplicated_it-language=it\n",
      "Using custom data configuration unshuffled_deduplicated_nl-language=nl\n",
      "Using custom data configuration unshuffled_deduplicated_pt-language=pt\n",
      "Using custom data configuration unshuffled_deduplicated_sv-language=sv\n",
      "Using custom data configuration unshuffled_deduplicated_da-language=da\n",
      "Using custom data configuration unshuffled_deduplicated_de-language=de\n",
      "Using custom data configuration unshuffled_deduplicated_el-language=el\n",
      "Using custom data configuration unshuffled_deduplicated_en-language=en\n",
      "Using custom data configuration unshuffled_deduplicated_es-language=es\n",
      "Using custom data configuration unshuffled_deduplicated_fr-language=fr\n",
      "Using custom data configuration unshuffled_deduplicated_fi-language=fi\n",
      "Using custom data configuration unshuffled_deduplicated_it-language=it\n",
      "Using custom data configuration unshuffled_deduplicated_nl-language=nl\n",
      "Using custom data configuration unshuffled_deduplicated_pt-language=pt\n",
      "Using custom data configuration unshuffled_deduplicated_sv-language=sv\n"
     ]
    }
   ],
   "source": [
    "nsb_osc_h, nsb_osc_r = calculate_entropy(oscar_words, nsb_entropy, n_words=50000)\n",
    "lz_osc_h, lz_osc_r = calculate_entropy(oscar_words, lz_entropy, n_words=50000)"
   ]
  },
  {
   "cell_type": "code",
   "execution_count": 150,
   "id": "disturbed-bathroom",
   "metadata": {},
   "outputs": [
    {
     "data": {
      "image/png": "[encoded data removed]",
      "text/plain": [
       "<Figure size 864x360 with 2 Axes>"
      ]
     },
     "metadata": {
      "needs_background": "light"
     },
     "output_type": "display_data"
    },
    {
     "name": "stdout",
     "output_type": "stream",
     "text": [
      "bleu,   nsb    : r= 0.0926970112091601\n",
      "bleu,   lz     : r= 0.16289604202404487\n",
      "\n",
      "spbleu, nsb    : r= 0.013537367159539564\n",
      "spbleu, lz     : r= 0.045116246211754286\n"
     ]
    },
    {
     "data": {
      "text/html": [
       "<div>\n",
       "<style scoped>\n",
       "    .dataframe tbody tr th:only-of-type {\n",
       "        vertical-align: middle;\n",
       "    }\n",
       "\n",
       "    .dataframe tbody tr th {\n",
       "        vertical-align: top;\n",
       "    }\n",
       "\n",
       "    .dataframe thead th {\n",
       "        text-align: right;\n",
       "    }\n",
       "</style>\n",
       "<table border=\"1\" class=\"dataframe\">\n",
       "  <thead>\n",
       "    <tr style=\"text-align: right;\">\n",
       "      <th></th>\n",
       "      <th>nsb</th>\n",
       "      <th>lz</th>\n",
       "    </tr>\n",
       "  </thead>\n",
       "  <tbody>\n",
       "    <tr>\n",
       "      <th>nsb</th>\n",
       "      <td>1.000000</td>\n",
       "      <td>0.539895</td>\n",
       "    </tr>\n",
       "    <tr>\n",
       "      <th>lz</th>\n",
       "      <td>0.539895</td>\n",
       "      <td>1.000000</td>\n",
       "    </tr>\n",
       "  </tbody>\n",
       "</table>\n",
       "</div>"
      ],
      "text/plain": [
       "          nsb        lz\n",
       "nsb  1.000000  0.539895\n",
       "lz   0.539895  1.000000"
      ]
     },
     "metadata": {},
     "output_type": "display_data"
    }
   ],
   "source": [
    "entropy_bleu_ratio([('nsb',nsb_osc_r),('lz',lz_osc_r)], 'OSCAR')\n",
    "entropy_entropy_ratio([('nsb',nsb_osc_h),('lz',lz_osc_h)])"
   ]
  },
  {
   "cell_type": "markdown",
   "id": "incorporate-support",
   "metadata": {},
   "source": [
    "## Other Entropy Related Quantities"
   ]
  },
  {
   "cell_type": "code",
   "execution_count": 75,
   "id": "controlling-sitting",
   "metadata": {},
   "outputs": [],
   "source": [
    "def calculate_length(corp_fn):\n",
    "    lens = {}\n",
    "    for lang in languages.split():\n",
    "        corp = corp_fn(lang)\n",
    "        ls = [len(x.split()) for x in corp]\n",
    "        l = sum(ls)/len(ls)\n",
    "        lens[lang] = l\n",
    "\n",
    "    len_r = []\n",
    "    for l1 in languages.split():\n",
    "        for l2 in languages.split():\n",
    "            if l1 != l2:\n",
    "                len_r.append(lens[l1] / lens[l2])\n",
    "    return lens, len_r"
   ]
  },
  {
   "cell_type": "code",
   "execution_count": 76,
   "id": "competitive-transparency",
   "metadata": {
    "collapsed": true,
    "jupyter": {
     "outputs_hidden": true
    },
    "tags": []
   },
   "outputs": [
    {
     "name": "stderr",
     "output_type": "stream",
     "text": [
      "Using custom data configuration unshuffled_deduplicated_da-language=da\n",
      "Using custom data configuration unshuffled_deduplicated_de-language=de\n",
      "Using custom data configuration unshuffled_deduplicated_el-language=el\n",
      "Using custom data configuration unshuffled_deduplicated_en-language=en\n",
      "Using custom data configuration unshuffled_deduplicated_es-language=es\n",
      "Using custom data configuration unshuffled_deduplicated_fr-language=fr\n",
      "Using custom data configuration unshuffled_deduplicated_fi-language=fi\n",
      "Using custom data configuration unshuffled_deduplicated_it-language=it\n",
      "Using custom data configuration unshuffled_deduplicated_nl-language=nl\n",
      "Using custom data configuration unshuffled_deduplicated_pt-language=pt\n",
      "Using custom data configuration unshuffled_deduplicated_sv-language=sv\n"
     ]
    }
   ],
   "source": [
    "bib_len, bib_len_r = calculate_length(bible_sentences)\n",
    "eur_len, eur_len_r = calculate_length(europarl_sentences)\n",
    "osc_len, osc_len_r = calculate_length(oscar_sentences)"
   ]
  },
  {
   "cell_type": "code",
   "execution_count": 151,
   "id": "external-orbit",
   "metadata": {},
   "outputs": [
    {
     "data": {
      "image/png": "[encoded data removed]",
      "text/plain": [
       "<Figure size 1296x360 with 3 Axes>"
      ]
     },
     "metadata": {
      "needs_background": "light"
     },
     "output_type": "display_data"
    },
    {
     "name": "stdout",
     "output_type": "stream",
     "text": [
      "bleu,   bible len : r= 0.17401564382778745\n",
      "bleu,   europarl len : r= 0.21499752589798202\n",
      "bleu,   OSCAR len : r= 0.18113053476321642\n",
      "\n",
      "spbleu, bible len : r= 0.06688589857950486\n",
      "spbleu, europarl len : r= 0.09207408442004769\n",
      "spbleu, OSCAR len : r= 0.06323536776827232\n"
     ]
    }
   ],
   "source": [
    "entropy_bleu_ratio([('bible len',bib_len_r),('europarl len',eur_len_r),('OSCAR len',osc_len_r),], 'Sentence Length')"
   ]
  },
  {
   "cell_type": "code",
   "execution_count": 91,
   "id": "color-riverside",
   "metadata": {},
   "outputs": [],
   "source": [
    "from gensim.models import Word2Vec\n",
    "\n",
    "def _w2v_loss(corp,\n",
    "              vec_size=20,\n",
    "              epochs=5,\n",
    "              min_count=5,\n",
    "              ):\n",
    "    w2v = Word2Vec(vector_size=vec_size, window=5, min_count=4, sg=1)\n",
    "    w2v.build_vocab(corp)  # prepare the model vocabulary\n",
    "    w2v.train(corp, total_examples=len(corp), epochs=epochs, compute_loss=True)  # train word vectors\n",
    "    return w2v.get_latest_training_loss()\n",
    "\n",
    "def w2v_loss(corp_fn, n_sentences=10000):\n",
    "    lang_l = {}\n",
    "    for lang in languages.split():\n",
    "        corp = [x.split() for x in corp_fn(lang)[:n_sentences]]\n",
    "        lang_l[lang] = _w2v_loss(corp)\n",
    "        \n",
    "    loss_r = []\n",
    "    for l1 in languages.split():\n",
    "        for l2 in languages.split():\n",
    "            if l1 != l2:\n",
    "                loss_r.append(lang_l[l1] / lang_l[l2])\n",
    "    \n",
    "    return lang_l, loss_r"
   ]
  },
  {
   "cell_type": "code",
   "execution_count": 92,
   "id": "violent-pencil",
   "metadata": {
    "collapsed": true,
    "jupyter": {
     "outputs_hidden": true
    },
    "tags": []
   },
   "outputs": [
    {
     "name": "stderr",
     "output_type": "stream",
     "text": [
      "Using custom data configuration unshuffled_deduplicated_da-language=da\n",
      "Using custom data configuration unshuffled_deduplicated_de-language=de\n",
      "Using custom data configuration unshuffled_deduplicated_el-language=el\n",
      "Using custom data configuration unshuffled_deduplicated_en-language=en\n",
      "Using custom data configuration unshuffled_deduplicated_es-language=es\n",
      "Using custom data configuration unshuffled_deduplicated_fr-language=fr\n",
      "Using custom data configuration unshuffled_deduplicated_fi-language=fi\n",
      "Using custom data configuration unshuffled_deduplicated_it-language=it\n",
      "Using custom data configuration unshuffled_deduplicated_nl-language=nl\n",
      "Using custom data configuration unshuffled_deduplicated_pt-language=pt\n",
      "Using custom data configuration unshuffled_deduplicated_sv-language=sv\n"
     ]
    }
   ],
   "source": [
    "bib_los, bib_los_r = w2v_loss(bible_sentences)\n",
    "eur_los, eur_los_r = w2v_loss(europarl_sentences)\n",
    "osc_los, osc_los_r = w2v_loss(oscar_sentences)"
   ]
  },
  {
   "cell_type": "code",
   "execution_count": 152,
   "id": "addressed-identification",
   "metadata": {},
   "outputs": [
    {
     "data": {
      "image/png": "[encoded data removed]",
      "text/plain": [
       "<Figure size 1296x360 with 3 Axes>"
      ]
     },
     "metadata": {
      "needs_background": "light"
     },
     "output_type": "display_data"
    },
    {
     "name": "stdout",
     "output_type": "stream",
     "text": [
      "bleu,   bible loss : r= 0.1605471200039503\n",
      "bleu,   europarl loss : r= 0.18375917921068005\n",
      "bleu,   OSCAR loss : r= 0.18258265662431097\n",
      "\n",
      "spbleu, bible loss : r= 0.08162586555402605\n",
      "spbleu, europarl loss : r= 0.1327758962913351\n",
      "spbleu, OSCAR loss : r= 0.06693488193741019\n"
     ]
    }
   ],
   "source": [
    "entropy_bleu_ratio([('bible loss',bib_los_r),('europarl loss',eur_los_r),('OSCAR loss',osc_los_r),], 'word2vec Loss')"
   ]
  },
  {
   "cell_type": "markdown",
   "id": "brave-ability",
   "metadata": {},
   "source": [
    "## Plots for Report"
   ]
  },
  {
   "cell_type": "code",
   "execution_count": 172,
   "id": "spiritual-scholar",
   "metadata": {},
   "outputs": [
    {
     "data": {
      "image/png": "[encoded data removed]",
      "text/plain": [
       "<Figure size 1296x432 with 2 Axes>"
      ]
     },
     "metadata": {
      "needs_background": "light"
     },
     "output_type": "display_data"
    }
   ],
   "source": [
    "# fig 1\n",
    "fig, (ax1, ax2) = plt.subplots(1, 2, figsize=(18,6))\n",
    "\n",
    "ax1.scatter(bleu, lz_bib_r)\n",
    "ax1.set_xlabel('Translation Score (BLEU)')\n",
    "ax1.set_ylabel(f'LZ Entropy Ratio')\n",
    "\n",
    "ax2.scatter([lz_bib_h[l] for l in languages.split()], [nsb_bib_h[l] for l in languages.split()])\n",
    "ax2.set_xlabel('LZ Entropy Ratio')\n",
    "ax2.set_ylabel('NSB Entropy Ratio')\n",
    "\n",
    "plt.show()"
   ]
  },
  {
   "cell_type": "code",
   "execution_count": 181,
   "id": "convinced-anger",
   "metadata": {},
   "outputs": [
    {
     "data": {
      "image/png": "[encoded data removed]",
      "text/plain": [
       "<Figure size 864x432 with 1 Axes>"
      ]
     },
     "metadata": {
      "needs_background": "light"
     },
     "output_type": "display_data"
    }
   ],
   "source": [
    "# fig 2\n",
    "d = [('NSB',[nsb_bib_r, nsb_eur_r, nsb_osc_r]),\n",
    "     ('LZ',[lz_bib_r, lz_eur_r, lz_osc_r]),\n",
    "     ('sentence length',[bib_len_r, eur_len_r, osc_len_r]),\n",
    "     ('word2vec loss',[bib_los_r, eur_los_r, osc_los_r]),\n",
    "]\n",
    "\n",
    "nms, bs, spbs = [], [], []\n",
    "for nm, rs in d:\n",
    "    b, spb = [], []\n",
    "    for r in rs:\n",
    "        b.append(np.corrcoef(bleu, r)[0,1])\n",
    "        spb.append(np.corrcoef(spbleu, r)[0,1])\n",
    "    b, spb = sum(b)/len(b), sum(spb)/len(spb)\n",
    "    \n",
    "    nms.append(nm)\n",
    "    bs.append(b)\n",
    "    spbs.append(spb)\n",
    "\n",
    "        \n",
    "fig, ax = plt.subplots(figsize=(12,6))\n",
    "\n",
    "w = 0.40\n",
    "x = np.arange(len(nms))\n",
    "\n",
    "rects1 = ax.bar(x-0.2, bs, w, label='BLEU')\n",
    "rects2 = ax.bar(x+0.2, spbs, w, label='spBLEU')\n",
    "ax.set_xticks(x, nms)\n",
    "ax.bar_label(rects1, padding=3)\n",
    "ax.bar_label(rects2, padding=3)\n",
    "ax.set_ylabel('correlation')\n",
    "\n",
    "ax.legend()\n",
    "plt.show()"
   ]
  },
  {
   "cell_type": "code",
   "execution_count": 203,
   "id": "right-check",
   "metadata": {},
   "outputs": [
    {
     "name": "stdout",
     "output_type": "stream",
     "text": [
      "\\begin{tabular}{lrrrr}\n",
      "\\toprule\n",
      "{} &       NSB &        LZ &       Len &      Loss \\\\\n",
      "\\midrule\n",
      "NSB  &  1.000000 &  0.392854 &  0.734785 &  0.856160 \\\\\n",
      "LZ   &  0.392854 &  1.000000 &  0.458535 &  0.517340 \\\\\n",
      "Len  &  0.734785 &  0.458535 &  1.000000 &  0.883985 \\\\\n",
      "Loss &  0.856160 &  0.517340 &  0.883985 &  1.000000 \\\\\n",
      "\\bottomrule\n",
      "\\end{tabular}\n",
      "\n"
     ]
    }
   ],
   "source": [
    "# fig 3\n",
    "x = lambda x: [float(x[l]) for l in languages.split()]\n",
    "y = lambda x: [1/float(x[l]) for l in languages.split()]\n",
    "hs = {\n",
    "    'NSB':x(nsb_bib_h)+x(nsb_eur_h)+x(nsb_osc_h),\n",
    "    'LZ':x(lz_bib_h)+x(lz_eur_h)+x(lz_osc_h),\n",
    "    'Len':y(bib_len)+y(eur_len)+y(osc_len),\n",
    "    'Loss':y(bib_los)+y(eur_los)+y(osc_los),    \n",
    "}\n",
    "df_h = pd.DataFrame(hs)\n",
    "print(df_h.corr().to_latex())"
   ]
  },
  {
   "cell_type": "markdown",
   "id": "occupied-correlation",
   "metadata": {},
   "source": [
    "## Trying Harder to Recreate Results:"
   ]
  },
  {
   "cell_type": "code",
   "execution_count": 116,
   "id": "prepared-status",
   "metadata": {},
   "outputs": [
    {
     "data": {
      "text/plain": [
       "8123"
      ]
     },
     "execution_count": 116,
     "metadata": {},
     "output_type": "execute_result"
    }
   ],
   "source": [
    "def europarl_sentences_subset(files):\n",
    "    all_data = []\n",
    "    for f in files:\n",
    "        with open(f, 'r') as f:\n",
    "            data = f.read()\n",
    "\n",
    "        data = re.sub('<[^<]+?>', '', data) # remove tags\n",
    "\n",
    "        data = re.sub('[0-9/!?]', '.', data) # end of sentence\n",
    "        data = re.sub('[0-9/\\-\\(\\):,\"]', '', data) # no special chars\n",
    "        data = data.lower().split('.')\n",
    "        all_data += data\n",
    "    return all_data\n",
    "    \n",
    "def europarl_words_subset(files):\n",
    "    text = ' '.join(europarl_sentences_subset(files))\n",
    "    words = text.split(' ')\n",
    "    return words\n",
    "\n",
    "all_files = {}\n",
    "for lang in languages.split():\n",
    "    all_files[lang] = _europarl_filenames(lang)\n",
    "len(all_files['en'])"
   ]
  },
  {
   "cell_type": "code",
   "execution_count": 130,
   "id": "affecting-profit",
   "metadata": {},
   "outputs": [],
   "source": [
    "# fn for getting entropies and entropy ratios\n",
    "from functools import lru_cache\n",
    "\n",
    "@lru_cache(maxsize=None)\n",
    "def calculate_files_entropy(files, n_words=15000):\n",
    "    corp = europarl_words_subset(files)[:n_words]\n",
    "    return lz_entropy(corp)\n",
    "\n",
    "def calculate_files_corr(files):\n",
    "    r = []\n",
    "    for l1 in languages.split():\n",
    "        for l2 in languages.split():\n",
    "            if l1 != l2:\n",
    "                h1 = calculate_files_entropy(tuple(files[l1]))\n",
    "                h2 = calculate_files_entropy(tuple(files[l2]))\n",
    "                r.append(h2 / h1)\n",
    "    return np.corrcoef(bleu, r)[0,1]"
   ]
  },
  {
   "cell_type": "code",
   "execution_count": 125,
   "id": "stylish-trick",
   "metadata": {},
   "outputs": [],
   "source": [
    "# correlation distribution\n",
    "files_per_lang = 2\n",
    "trials = 15\n",
    "\n",
    "corrs = []\n",
    "for _ in range(trials):\n",
    "    # random files\n",
    "    files = {l:np.array(all_files[l])[np.random.randint(0,len(all_files[l]), files_per_lang)] for l in languages.split()}\n",
    "    corrs.append(calculate_files_corr(files))"
   ]
  },
  {
   "cell_type": "code",
   "execution_count": 128,
   "id": "congressional-restaurant",
   "metadata": {},
   "outputs": [
    {
     "data": {
      "image/png": "[encoded data removed]",
      "text/plain": [
       "<Figure size 432x360 with 1 Axes>"
      ]
     },
     "metadata": {
      "needs_background": "light"
     },
     "output_type": "display_data"
    }
   ],
   "source": [
    "hist, bins = np.histogram(np.array(corrs))\n",
    "\n",
    "fig, ax = plt.subplots(figsize=(6,5))\n",
    "ax.bar((bins[1:]+bins[:-1])/2, hist)\n",
    "ax.set_xlabel('Entropy-BLEU Correlation')\n",
    "ax.set_ylabel('Frequency')\n",
    "fig.suptitle(\"Entropy-BLEU Correlation Distribution\")\n",
    "plt.show()"
   ]
  },
  {
   "cell_type": "code",
   "execution_count": 155,
   "id": "lyric-tissue",
   "metadata": {},
   "outputs": [
    {
     "name": "stdout",
     "output_type": "stream",
     "text": [
      "0.342280886568164281642\n"
     ]
    }
   ],
   "source": [
    "# correlation hacking\n",
    "max_files_per_lang = 6\n",
    "min_files_per_lang = 2\n",
    "generations = 2000\n",
    "convergence = 0.5\n",
    "\n",
    "best = {l:list(np.array(all_files[l])[np.random.randint(0,len(all_files[l]), min_files_per_lang)]) for l in languages.split()}\n",
    "best_corr = calculate_files_corr(best)\n",
    "\n",
    "def mutate(files):\n",
    "    prog = {l:files[l][:] for l in files} # copy files\n",
    "    langs = languages.split()\n",
    "    l = langs[np.random.randint(len(langs))] # choose language to mutate\n",
    "    if (len(prog[l])==min_files_per_lang) or (len(prog[l])<max_files_per_lang and np.random.rand()>0.5): # add file\n",
    "        prog[l].insert(np.random.randint(len(prog[l])+1), all_files[l][np.random.randint(len(all_files[l]))])\n",
    "    else: # remove file\n",
    "        prog[l].pop(np.random.randint(len(prog[l])))\n",
    "    return prog\n",
    "    \n",
    "for g in range(generations):\n",
    "    prog = mutate(best)\n",
    "    prog_corr = calculate_files_corr(prog)\n",
    "    if prog_corr >= best_corr:\n",
    "        best = prog\n",
    "        best_corr = prog_corr\n",
    "    if best_corr >= convergence:\n",
    "        break\n",
    "    print(g, best_corr, end='\\r')\n",
    "print(best_corr)"
   ]
  },
  {
   "cell_type": "code",
   "execution_count": null,
   "id": "destroyed-mason",
   "metadata": {},
   "outputs": [],
   "source": []
  }
 ],
 "metadata": {
  "kernelspec": {
   "display_name": "venv_common",
   "language": "python",
   "name": "venv_common"
  },
  "language_info": {
   "codemirror_mode": {
    "name": "ipython",
    "version": 3
   },
   "file_extension": ".py",
   "mimetype": "text/x-python",
   "name": "python",
   "nbconvert_exporter": "python",
   "pygments_lexer": "ipython3",
   "version": "3.8.10"
  }
 },
 "nbformat": 4,
 "nbformat_minor": 5
}
