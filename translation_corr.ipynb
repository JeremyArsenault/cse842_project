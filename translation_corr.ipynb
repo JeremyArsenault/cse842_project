{
 "cells": [
  {
   "cell_type": "markdown",
   "id": "convinced-participation",
   "metadata": {},
   "source": [
    "extension of the original paper: https://arxiv.org/pdf/1606.06996.pdf\n",
    "\n",
    "Observation: Not all entropy estimators are created equal - the above paper showed that different estimators that have similar convergence properties and are highly correlated on the data - but it turns out that this does not mean that all these estimators will be related to translation accuracy. In particular, it appears that histogram / frequency approaches with strong iid assumptions are most correlated with translation performance. \n",
    "\n",
    "To me, this suggests (a) that the *uncertainty* measured by an entropy estimator can be attributed to multiple factors, (b) that different estimators (although equal in limit under strong assumptions) are affected differently by these factors, and that (c) identifying which ones are related to *translatability* helps us understand specific models and machine translation in general.\n",
    "\n",
    "Specifically: \n",
    "    - data: europarl, BLEU scores from models trained on this\n",
    "    - model: entropy estimator\n",
    "    - output: entropy (used to get entropy ratio to calc translation score\n",
    "    - metric: use correlation strength to compare estimators on a model"
   ]
  },
  {
   "cell_type": "code",
   "execution_count": 1,
   "id": "collective-boston",
   "metadata": {},
   "outputs": [],
   "source": [
    "import pandas as pd\n",
    "import numpy as np\n",
    "import matplotlib.pyplot as plt"
   ]
  },
  {
   "cell_type": "markdown",
   "id": "coupled-color",
   "metadata": {},
   "source": [
    "# Entropy Rate Estimators and Translation Probability\n",
    "***********"
   ]
  },
  {
   "cell_type": "code",
   "execution_count": 2,
   "id": "fancy-crystal",
   "metadata": {},
   "outputs": [
    {
     "data": {
      "text/html": [
       "<div>\n",
       "<style scoped>\n",
       "    .dataframe tbody tr th:only-of-type {\n",
       "        vertical-align: middle;\n",
       "    }\n",
       "\n",
       "    .dataframe tbody tr th {\n",
       "        vertical-align: top;\n",
       "    }\n",
       "\n",
       "    .dataframe thead th {\n",
       "        text-align: right;\n",
       "    }\n",
       "</style>\n",
       "<table border=\"1\" class=\"dataframe\">\n",
       "  <thead>\n",
       "    <tr style=\"text-align: right;\">\n",
       "      <th></th>\n",
       "      <th>da</th>\n",
       "      <th>de</th>\n",
       "      <th>el</th>\n",
       "      <th>en</th>\n",
       "      <th>es</th>\n",
       "      <th>fr</th>\n",
       "      <th>fi</th>\n",
       "      <th>it</th>\n",
       "      <th>nl</th>\n",
       "      <th>pt</th>\n",
       "      <th>sv</th>\n",
       "    </tr>\n",
       "  </thead>\n",
       "  <tbody>\n",
       "    <tr>\n",
       "      <th>da</th>\n",
       "      <td>-</td>\n",
       "      <td>18.4</td>\n",
       "      <td>21.1</td>\n",
       "      <td>28.5</td>\n",
       "      <td>26.4</td>\n",
       "      <td>28.7</td>\n",
       "      <td>14.2</td>\n",
       "      <td>22.2</td>\n",
       "      <td>21.4</td>\n",
       "      <td>24.3</td>\n",
       "      <td>28.3</td>\n",
       "    </tr>\n",
       "    <tr>\n",
       "      <th>de</th>\n",
       "      <td>22.3</td>\n",
       "      <td>-</td>\n",
       "      <td>20.7</td>\n",
       "      <td>25.3</td>\n",
       "      <td>25.4</td>\n",
       "      <td>27.7</td>\n",
       "      <td>11.8</td>\n",
       "      <td>21.3</td>\n",
       "      <td>23.4</td>\n",
       "      <td>23.2</td>\n",
       "      <td>20.5</td>\n",
       "    </tr>\n",
       "    <tr>\n",
       "      <th>el</th>\n",
       "      <td>22.7</td>\n",
       "      <td>17.4</td>\n",
       "      <td>-</td>\n",
       "      <td>27.2</td>\n",
       "      <td>31.2</td>\n",
       "      <td>32.1</td>\n",
       "      <td>11.4</td>\n",
       "      <td>26.8</td>\n",
       "      <td>20.0</td>\n",
       "      <td>27.6</td>\n",
       "      <td>21.2</td>\n",
       "    </tr>\n",
       "    <tr>\n",
       "      <th>en</th>\n",
       "      <td>25.2</td>\n",
       "      <td>17.6</td>\n",
       "      <td>23.2</td>\n",
       "      <td>-</td>\n",
       "      <td>30.1</td>\n",
       "      <td>31.1</td>\n",
       "      <td>13.0</td>\n",
       "      <td>25.3</td>\n",
       "      <td>21.0</td>\n",
       "      <td>27.1</td>\n",
       "      <td>24.8</td>\n",
       "    </tr>\n",
       "    <tr>\n",
       "      <th>es</th>\n",
       "      <td>24.1</td>\n",
       "      <td>18.2</td>\n",
       "      <td>28.3</td>\n",
       "      <td>30.5</td>\n",
       "      <td>-</td>\n",
       "      <td>40.2</td>\n",
       "      <td>12.5</td>\n",
       "      <td>32.3</td>\n",
       "      <td>21.4</td>\n",
       "      <td>35.9</td>\n",
       "      <td>23.9</td>\n",
       "    </tr>\n",
       "    <tr>\n",
       "      <th>fr</th>\n",
       "      <td>23.7</td>\n",
       "      <td>18.5</td>\n",
       "      <td>26.1</td>\n",
       "      <td>30.0</td>\n",
       "      <td>38.4</td>\n",
       "      <td>-</td>\n",
       "      <td>12.6</td>\n",
       "      <td>32.4</td>\n",
       "      <td>21.1</td>\n",
       "      <td>35.3</td>\n",
       "      <td>22.6</td>\n",
       "    </tr>\n",
       "    <tr>\n",
       "      <th>fi</th>\n",
       "      <td>20.0</td>\n",
       "      <td>14.5</td>\n",
       "      <td>18.2</td>\n",
       "      <td>21.8</td>\n",
       "      <td>21.1</td>\n",
       "      <td>22.4</td>\n",
       "      <td>-</td>\n",
       "      <td>18.3</td>\n",
       "      <td>17.0</td>\n",
       "      <td>19.1</td>\n",
       "      <td>18.8</td>\n",
       "    </tr>\n",
       "    <tr>\n",
       "      <th>it</th>\n",
       "      <td>21.4</td>\n",
       "      <td>16.9</td>\n",
       "      <td>24.8</td>\n",
       "      <td>27.8</td>\n",
       "      <td>34.0</td>\n",
       "      <td>36.0</td>\n",
       "      <td>11.0</td>\n",
       "      <td>-</td>\n",
       "      <td>20.0</td>\n",
       "      <td>31.2</td>\n",
       "      <td>20.2</td>\n",
       "    </tr>\n",
       "    <tr>\n",
       "      <th>nl</th>\n",
       "      <td>20.5</td>\n",
       "      <td>18.3</td>\n",
       "      <td>17.4</td>\n",
       "      <td>23.0</td>\n",
       "      <td>22.9</td>\n",
       "      <td>24.6</td>\n",
       "      <td>10.3</td>\n",
       "      <td>20.0</td>\n",
       "      <td>-</td>\n",
       "      <td>20.7</td>\n",
       "      <td>19.0</td>\n",
       "    </tr>\n",
       "    <tr>\n",
       "      <th>pt</th>\n",
       "      <td>23.2</td>\n",
       "      <td>18.2</td>\n",
       "      <td>26.4</td>\n",
       "      <td>30.1</td>\n",
       "      <td>37.9</td>\n",
       "      <td>39.0</td>\n",
       "      <td>11.9</td>\n",
       "      <td>32.0</td>\n",
       "      <td>20.2</td>\n",
       "      <td>-</td>\n",
       "      <td>21.9</td>\n",
       "    </tr>\n",
       "    <tr>\n",
       "      <th>sv</th>\n",
       "      <td>30.3</td>\n",
       "      <td>18.9</td>\n",
       "      <td>22.8</td>\n",
       "      <td>30.2</td>\n",
       "      <td>28.6</td>\n",
       "      <td>29.7</td>\n",
       "      <td>15.3</td>\n",
       "      <td>23.9</td>\n",
       "      <td>21.9</td>\n",
       "      <td>25.9</td>\n",
       "      <td>-</td>\n",
       "    </tr>\n",
       "  </tbody>\n",
       "</table>\n",
       "</div>"
      ],
      "text/plain": [
       "      da    de    el    en    es    fr    fi    it    nl    pt    sv\n",
       "da     -  18.4  21.1  28.5  26.4  28.7  14.2  22.2  21.4  24.3  28.3\n",
       "de  22.3     -  20.7  25.3  25.4  27.7  11.8  21.3  23.4  23.2  20.5\n",
       "el  22.7  17.4     -  27.2  31.2  32.1  11.4  26.8  20.0  27.6  21.2\n",
       "en  25.2  17.6  23.2     -  30.1  31.1  13.0  25.3  21.0  27.1  24.8\n",
       "es  24.1  18.2  28.3  30.5     -  40.2  12.5  32.3  21.4  35.9  23.9\n",
       "fr  23.7  18.5  26.1  30.0  38.4     -  12.6  32.4  21.1  35.3  22.6\n",
       "fi  20.0  14.5  18.2  21.8  21.1  22.4     -  18.3  17.0  19.1  18.8\n",
       "it  21.4  16.9  24.8  27.8  34.0  36.0  11.0     -  20.0  31.2  20.2\n",
       "nl  20.5  18.3  17.4  23.0  22.9  24.6  10.3  20.0     -  20.7  19.0\n",
       "pt  23.2  18.2  26.4  30.1  37.9  39.0  11.9  32.0  20.2     -  21.9\n",
       "sv  30.3  18.9  22.8  30.2  28.6  29.7  15.3  23.9  21.9  25.9     -"
      ]
     },
     "execution_count": 2,
     "metadata": {},
     "output_type": "execute_result"
    }
   ],
   "source": [
    "# translation data\n",
    "# https://aclanthology.org/2005.mtsummit-papers.11.pdf\n",
    "\n",
    "# ['Danish','German','Greek','English','Spanish','French','Finnish','Italian','Dutch','Portugese','Swedish']\n",
    "languages = 'da de el en es fr fi it nl pt sv'\n",
    "bleu_data = \\\n",
    "'''- 18.4 21.1 28.5 26.4 28.7 14.2 22.2 21.4 24.3 28.3\n",
    "22.3 - 20.7 25.3 25.4 27.7 11.8 21.3 23.4 23.2 20.5\n",
    "22.7 17.4 - 27.2 31.2 32.1 11.4 26.8 20.0 27.6 21.2\n",
    "25.2 17.6 23.2 - 30.1 31.1 13.0 25.3 21.0 27.1 24.8\n",
    "24.1 18.2 28.3 30.5 - 40.2 12.5 32.3 21.4 35.9 23.9\n",
    "23.7 18.5 26.1 30.0 38.4 - 12.6 32.4 21.1 35.3 22.6\n",
    "20.0 14.5 18.2 21.8 21.1 22.4 - 18.3 17.0 19.1 18.8\n",
    "21.4 16.9 24.8 27.8 34.0 36.0 11.0 - 20.0 31.2 20.2\n",
    "20.5 18.3 17.4 23.0 22.9 24.6 10.3 20.0 - 20.7 19.0\n",
    "23.2 18.2 26.4 30.1 37.9 39.0 11.9 32.0 20.2 - 21.9\n",
    "30.3 18.9 22.8 30.2 28.6 29.7 15.3 23.9 21.9 25.9 -'''\n",
    "\n",
    "df_bleu = pd.DataFrame([r.split(' ') for r in bleu_data.split('\\n')], dtype=float, columns=languages.split(' '), index=languages.split(' '))\n",
    "df_bleu"
   ]
  },
  {
   "cell_type": "code",
   "execution_count": 3,
   "id": "incomplete-quest",
   "metadata": {},
   "outputs": [
    {
     "data": {
      "text/plain": [
       "5565"
      ]
     },
     "execution_count": 3,
     "metadata": {},
     "output_type": "execute_result"
    }
   ],
   "source": [
    "# europarl data\n",
    "# https://www.statmt.org/europarl/archives.html\n",
    "import re\n",
    "from os import listdir\n",
    "from os.path import isfile, join\n",
    "\n",
    "def filenames(lang):\n",
    "    base_path = f\"europarl/txt/{lang}/\"\n",
    "    files = [base_path+f for f in listdir(base_path) if isfile(join(base_path, f))]\n",
    "    files = sorted(files)\n",
    "    return files\n",
    "\n",
    "def get_sentences(path):\n",
    "    with open(path, 'r') as f:\n",
    "        data = f.read()\n",
    "    \n",
    "    data = re.sub('<[^<]+?>', '', data) # remove tags\n",
    "    \n",
    "    data = re.sub('[0-9/!?]', '.', data) # end of sentence\n",
    "    data = re.sub('[0-9/\\-\\(\\):,\"]', '', data) # no special chars\n",
    "    data = data.lower().split('.')\n",
    "    return [s.split() for s in data]\n",
    "\n",
    "def get_file(path):\n",
    "    data = []\n",
    "    for s in get_sentences(path):\n",
    "        data += s\n",
    "    return data\n",
    "\n",
    "def sample_txt(lang): \n",
    "    files = filenames(lang)\n",
    "    return get_file(files[np.random.randint(len(files))])\n",
    "\n",
    "def all_sentences(lang):\n",
    "    files = filenames(lang)\n",
    "    data = []\n",
    "    for f in files:\n",
    "        data += get_sentences(f)\n",
    "    return data\n",
    "\n",
    "def all_txt(lang):\n",
    "    files = filenames(lang)\n",
    "    data = []\n",
    "    for f in files:\n",
    "        data += get_file(f)\n",
    "    return data\n",
    "    \n",
    "len(sample_txt('en'))"
   ]
  },
  {
   "cell_type": "code",
   "execution_count": 6,
   "id": "breeding-minimum",
   "metadata": {},
   "outputs": [
    {
     "data": {
      "text/plain": [
       "56.90270873565933798515510918042136167824"
      ]
     },
     "execution_count": 6,
     "metadata": {},
     "output_type": "execute_result"
    }
   ],
   "source": [
    "# nsb entropy (iid)\n",
    "# https://gist.github.com/shhong/1021654\n",
    "import nsb_entropy as nsb\n",
    "\n",
    "def nsb_entropy(lang,\n",
    "                n_words=1000,\n",
    "                ):\n",
    "    # build histogram\n",
    "    corp = all_txt(lang)[:n_words]\n",
    "    vocab = {w:i for i,w in enumerate(set(corp))}\n",
    "    \n",
    "    hist = np.zeros(len(vocab))\n",
    "    for w in corp: # words\n",
    "        hist[vocab[w]] += 1\n",
    "\n",
    "    nxkx = nsb.make_nxkx(hist, len(hist))\n",
    "    H = nsb.S(nxkx, hist.sum(), len(nxkx))\n",
    "    return H\n",
    "    \n",
    "nsb_entropy('en')"
   ]
  },
  {
   "cell_type": "code",
   "execution_count": 5,
   "id": "heavy-edgar",
   "metadata": {},
   "outputs": [
    {
     "data": {
      "text/plain": [
       "3.2902036815812243"
      ]
     },
     "execution_count": 5,
     "metadata": {},
     "output_type": "execute_result"
    }
   ],
   "source": [
    "# source entropy (iid)\n",
    "# https://www.dam.brown.edu/people/elie/papers/Gao%20Kontoyiannis%20Bienenstock%20Estimating%20the%20entropy%20of%20binary%20time%20series.pdf\n",
    "def lz_entropy(lang,\n",
    "               n_words=1000,\n",
    "               window_size=10,\n",
    "               ):\n",
    "    assert window_size < n_words\n",
    "    \n",
    "    corp = all_txt(lang)[:n_words]\n",
    "    \n",
    "    ls = 0\n",
    "    for i in range(len(corp)): # for each position\n",
    "        l = 1\n",
    "        for j in range(i-window_size, i): # sliding window\n",
    "            lj = 0\n",
    "            while lj<window_size and corp[(i+lj)%len(corp)]==corp[(j+lj)%len(corp)]: \n",
    "                lj += 1\n",
    "            l = max(l, lj)\n",
    "        ls += (np.log(window_size) / np.log(2)) / l\n",
    "    H = ls / (len(corp))\n",
    "    return H\n",
    "\n",
    "lz_entropy('en')"
   ]
  },
  {
   "cell_type": "code",
   "execution_count": 10,
   "id": "generous-warehouse",
   "metadata": {},
   "outputs": [],
   "source": [
    "# recreate paper results\n",
    "# https://arxiv.org/pdf/1606.06996.pdf\n",
    "lang_src = {}\n",
    "for lang in languages.split():\n",
    "    lang_src[lang] = lz_entropy(lang, n_words=100000, window_size=1000)"
   ]
  },
  {
   "cell_type": "code",
   "execution_count": 11,
   "id": "cooked-shade",
   "metadata": {},
   "outputs": [
    {
     "name": "stdout",
     "output_type": "stream",
     "text": [
      "paper : r= 0.58\n",
      "ours  : r= 0.3028437799602216\n"
     ]
    },
    {
     "data": {
      "image/png": "[encoded data removed]",
      "text/plain": [
       "<Figure size 360x360 with 1 Axes>"
      ]
     },
     "metadata": {
      "needs_background": "light"
     },
     "output_type": "display_data"
    }
   ],
   "source": [
    "bleu = []\n",
    "src_r = []\n",
    "for l1 in languages.split():\n",
    "    for l2 in languages.split():\n",
    "        if l1 != l2:\n",
    "            bleu.append(float(df_bleu[l1][l2]))\n",
    "            src_r.append(float(lang_src[l2]/lang_src[l1]))\n",
    "            \n",
    "print('paper : r= 0.58')\n",
    "print(f'ours  : r=',np.corrcoef(bleu, src_r)[0,1])\n",
    "fig, ax = plt.subplots(figsize=(5,5))\n",
    "ax.scatter(bleu, src_r)\n",
    "ax.set_xlabel('Translation Score (BLEU)')\n",
    "ax.set_ylabel('Source Entropy Ratio')\n",
    "plt.show()"
   ]
  },
  {
   "cell_type": "code",
   "execution_count": 12,
   "id": "formal-happening",
   "metadata": {},
   "outputs": [],
   "source": [
    "# try with nsb estimator\n",
    "lang_nsb = {}\n",
    "for lang in languages.split():\n",
    "    lang_nsb[lang] = nsb_entropy(lang, n_words=100000)"
   ]
  },
  {
   "cell_type": "code",
   "execution_count": 13,
   "id": "subsequent-thomson",
   "metadata": {},
   "outputs": [
    {
     "name": "stdout",
     "output_type": "stream",
     "text": [
      "bleu, source  : r= 0.3028437799602216\n",
      "bleu, nsb     : r= 0.1197372466509679\n",
      "source, nsb   : r= 0.8218469469670985\n"
     ]
    },
    {
     "data": {
      "image/png": "[encoded data removed]",
      "text/plain": [
       "<Figure size 1296x360 with 3 Axes>"
      ]
     },
     "metadata": {
      "needs_background": "light"
     },
     "output_type": "display_data"
    }
   ],
   "source": [
    "nsb_r = []\n",
    "for l1 in languages.split():\n",
    "    for l2 in languages.split():\n",
    "        if l1 != l2:\n",
    "            nsb_r.append(float(lang_nsb[l2]/lang_nsb[l1]))\n",
    "\n",
    "            \n",
    "print('bleu, source  : r=',np.corrcoef(bleu, src_r)[0,1])\n",
    "print('bleu, nsb     : r=',np.corrcoef(bleu, nsb_r)[0,1])\n",
    "l1, l2 = [float(lang_src[l]) for l in languages.split()], [float(lang_nsb[l]) for l in languages.split()]\n",
    "print('source, nsb   : r=',np.corrcoef(l1, l2)[0,1])\n",
    "fig, (ax1,ax2,ax3) = plt.subplots(1, 3, figsize=(18,5))\n",
    "\n",
    "ax1.scatter(bleu, src_r)\n",
    "ax1.set_xlabel('Translation Score (BLEU)')\n",
    "ax1.set_ylabel('Source Entropy Ratio')\n",
    "\n",
    "ax2.scatter(bleu, nsb_r)\n",
    "ax2.set_xlabel('Translation Score (BLEU)')\n",
    "ax2.set_ylabel('NSB Entropy Ratio')\n",
    "\n",
    "ax3.scatter(l1, l2)\n",
    "ax3.set_xlabel('Source Entropy')\n",
    "ax3.set_ylabel('NSB Entropy')\n",
    "\n",
    "plt.show()"
   ]
  },
  {
   "cell_type": "code",
   "execution_count": 14,
   "id": "engaged-manitoba",
   "metadata": {},
   "outputs": [],
   "source": [
    "# word embeddings\n",
    "# https://radimrehurek.com/gensim/models/word2vec.html\n",
    "from gensim.models import Word2Vec\n",
    "\n",
    "def train_w2v(lang,\n",
    "              num_sentences=10000,\n",
    "              vec_size=10,\n",
    "              epochs=5,\n",
    "              min_count=5,\n",
    "              ):\n",
    "    sentences = all_sentences(lang)[:num_sentences]\n",
    "    w2v = Word2Vec(vector_size=vec_size, window=5, min_count=4)\n",
    "    w2v.build_vocab(sentences)  # prepare the model vocabulary\n",
    "    w2v.train(sentences, total_examples=len(sentences), epochs=epochs)  # train word vectors\n",
    "    w2v.save(f\"europarl/w2v/{lang}.model\")\n",
    "    return w2v\n",
    "\n",
    "def load_w2v(lang):\n",
    "    return Word2Vec.load(f\"europarl/w2v/{lang}.model\")\n",
    "\n",
    "# train wvs for each language\n",
    "# lang_wv = {}\n",
    "# for lang in languages.split():\n",
    "#     print(lang)\n",
    "#     lang_wv[lang] = train_w2v(lang)"
   ]
  },
  {
   "cell_type": "code",
   "execution_count": 15,
   "id": "commercial-kansas",
   "metadata": {},
   "outputs": [],
   "source": [
    "lang_wv = {l:load_w2v(l) for l in languages.split()}"
   ]
  },
  {
   "cell_type": "code",
   "execution_count": 21,
   "id": "statistical-howard",
   "metadata": {},
   "outputs": [],
   "source": [
    "# semantic heat\n",
    "def semantic_heat(lang,\n",
    "                  n_blocks=1000,\n",
    "                  block_size=1,\n",
    "                  m=0,\n",
    "                  ):\n",
    "    assert 0<=m and m<1\n",
    "    \n",
    "    w2v = lang_wv[lang]\n",
    "    corp = all_txt(lang)[:n_blocks*block_size]\n",
    "    \n",
    "    D = []\n",
    "    p, v, nv = None, None, []\n",
    "    for i in range(1,len(corp), block_size):\n",
    "        if corp[i] not in w2v.wv:\n",
    "            continue\n",
    "        nv.append(np.copy(w2v.wv[corp[i]]))\n",
    "        if len(nv)==block_size:\n",
    "            vv = sum(nv)\n",
    "            nv = []\n",
    "            if p is None:\n",
    "                p = vv\n",
    "                v = np.zeros_like(p)\n",
    "            else:\n",
    "                v = m*v + (1-m)*(vv-p)\n",
    "                D.append(np.linalg.norm(v))\n",
    "                p += v\n",
    "    D = np.array(D)\n",
    "    return D.mean(), D.std()\n",
    "        \n",
    "# try with heat\n",
    "lang_heat_0 = {}\n",
    "for lang in languages.split():\n",
    "    lang_heat_0[lang] = semantic_heat(lang, n_blocks=100000, m=0)\n",
    "        \n",
    "lang_heat_5 = {}\n",
    "for lang in languages.split():\n",
    "    lang_heat_5[lang] = semantic_heat(lang, n_blocks=100000, m=0.5)\n",
    "    \n",
    "lang_heat_long = {}\n",
    "for lang in languages.split():\n",
    "    lang_heat_long[lang] = semantic_heat(lang, n_blocks=10000, m=0, block_size=10)"
   ]
  },
  {
   "cell_type": "code",
   "execution_count": 25,
   "id": "decimal-architect",
   "metadata": {},
   "outputs": [
    {
     "name": "stdout",
     "output_type": "stream",
     "text": [
      "source, heat (m=0)       : r= -0.5911229261998613\n",
      "source, heat (m=0) (var) : r= 0.35942696345238423\n",
      "source, heat (m=0.5)       : r= -0.5585796467491416\n",
      "source, heat (m=0.5) (var) : r= -0.014955413438696878\n",
      "source, heat long (m=0)       : r= -0.6244047770153276\n",
      "source, heat long (m=0) (var) : r= 0.2860630570329471\n",
      "nsb, heat (m=0)       : r= -0.33351556166910057\n",
      "nsb, heat (m=0) (var) : r= 0.6499935820906156\n",
      "nsb, heat (m=0.5)       : r= -0.2830954654157854\n",
      "nsb, heat (m=0.5) (var) : r= 0.30169220855485357\n",
      "nsb, heat long (m=0)       : r= -0.3947655932799011\n",
      "nsb, heat long (m=0) (var) : r= 0.6038911658632863\n"
     ]
    },
    {
     "data": {
      "image/png": "[encoded data removed]",
      "text/plain": [
       "<Figure size 792x1152 with 6 Axes>"
      ]
     },
     "metadata": {
      "needs_background": "light"
     },
     "output_type": "display_data"
    }
   ],
   "source": [
    "h0_r, h5_r, h0s_r, h5s_r, hl_r, hls_r = [], [], [], [], [], []\n",
    "for l1 in languages.split():\n",
    "    for l2 in languages.split():\n",
    "        if l1 != l2:\n",
    "            h0_r.append(float(lang_heat_0[l2][0]/lang_heat_0[l1][0]))\n",
    "            h5_r.append(float(lang_heat_5[l2][0]/lang_heat_5[l1][0]))\n",
    "            hl_r.append(float(lang_heat_long[l2][0]/lang_heat_long[l1][0]))\n",
    "            h0s_r.append(float(lang_heat_0[l2][1]/lang_heat_0[l1][1]))\n",
    "            h5s_r.append(float(lang_heat_5[l2][1]/lang_heat_5[l1][1]))\n",
    "            hls_r.append(float(lang_heat_long[l2][1]/lang_heat_long[l1][1]))\n",
    "            \n",
    "x = [('source',lang_src),('nsb',lang_nsb),]\n",
    "y = [('heat (m=0)',lang_heat_0),('heat (m=0.5)',lang_heat_5), ('heat long (m=0)',lang_heat_long)]\n",
    "for na,a in x:\n",
    "    for nb,b in y:\n",
    "        l1, l2, l3 = [float(a[l]) for l in languages.split()], [float(b[l][0]) for l in languages.split()], [float(b[l][1]) for l in languages.split()]\n",
    "        print(f'{na}, {nb}       : r=',np.corrcoef(l1, l2)[0,1])\n",
    "        print(f'{na}, {nb} (var) : r=',np.corrcoef(l1, l3)[0,1])\n",
    "            \n",
    "fig, ((ax1,ax2),(ax3,ax4),(ax5,ax6)) = plt.subplots(3, 2, figsize=(11,16))\n",
    "\n",
    "ax1.scatter(bleu, h0_r)\n",
    "ax1.set_title('mean')\n",
    "ax1.set_xlabel('Translation Score (BLEU)')\n",
    "ax1.set_ylabel('Semantic Heat Ratio (m=0)')\n",
    "\n",
    "ax2.scatter(bleu, h0s_r)\n",
    "ax2.set_title('std')\n",
    "ax2.set_xlabel('Translation Score (BLEU)')\n",
    "ax2.set_ylabel('Semantic Heat Ratio (m=0)')\n",
    "\n",
    "ax3.scatter(bleu, h5_r)\n",
    "ax3.set_title('mean')\n",
    "ax3.set_xlabel('Translation Score (BLEU)')\n",
    "ax3.set_ylabel('Semantic Heat Ratio (m=0.5)')\n",
    "\n",
    "ax4.scatter(bleu, h5s_r)\n",
    "ax4.set_title('std')\n",
    "ax4.set_xlabel('Translation Score (BLEU)')\n",
    "ax4.set_ylabel('Semantic Heat Ratio (m=0.5)')\n",
    "\n",
    "ax5.scatter(bleu, hl_r)\n",
    "ax5.set_title('mean')\n",
    "ax5.set_xlabel('Translation Score (BLEU)')\n",
    "ax5.set_ylabel('Semantic Heat Ratio (n=10) (m=0)')\n",
    "\n",
    "ax6.scatter(bleu, hls_r)\n",
    "ax6.set_title('std')\n",
    "ax6.set_xlabel('Translation Score (BLEU)')\n",
    "ax6.set_ylabel('Semantic Heat Ratio (n=10) (m=0)')\n",
    "\n",
    "plt.show()"
   ]
  },
  {
   "cell_type": "markdown",
   "id": "fallen-design",
   "metadata": {},
   "source": [
    "histogram estimation (only use word frequency)"
   ]
  },
  {
   "cell_type": "code",
   "execution_count": 30,
   "id": "heavy-referral",
   "metadata": {},
   "outputs": [],
   "source": [
    "from collections import defaultdict\n",
    "\n",
    "# histogram entropy\n",
    "def histogram_ent(lang, n_words=10000):\n",
    "    corp = all_txt(lang)[:n_words]\n",
    "    D = defaultdict(lambda: 0)\n",
    "    for w in corp:\n",
    "        D[w] += 1\n",
    "    return sum([-D[w] * np.log(D[w]/n_words) for w in D]) / n_words\n",
    "        \n",
    "#\n",
    "lang_hh = {}\n",
    "for lang in languages.split():\n",
    "    lang_hh[lang] = histogram_ent(lang, n_words=10000)"
   ]
  },
  {
   "cell_type": "code",
   "execution_count": 37,
   "id": "continued-mounting",
   "metadata": {},
   "outputs": [
    {
     "name": "stdout",
     "output_type": "stream",
     "text": [
      "paper : r= 0.58\n",
      "ours  : r= 0.24030938832332524\n"
     ]
    },
    {
     "data": {
      "image/png": "[encoded data removed]",
      "text/plain": [
       "<Figure size 360x360 with 1 Axes>"
      ]
     },
     "metadata": {
      "needs_background": "light"
     },
     "output_type": "display_data"
    }
   ],
   "source": [
    "hst_r = []\n",
    "for l1 in languages.split():\n",
    "    for l2 in languages.split():\n",
    "        if l1 != l2:\n",
    "            hst_r.append(float(lang_hh[l2]/lang_hh[l1]))\n",
    "            \n",
    "print('paper : r= 0.58')\n",
    "print(f'ours  : r=',np.corrcoef(bleu, hst_r)[0,1])\n",
    "fig, ax = plt.subplots(figsize=(5,5))\n",
    "ax.scatter(bleu, hst_r)\n",
    "ax.set_xlabel('Translation Score (BLEU)')\n",
    "ax.set_ylabel('Histogram Entropy Ratio')\n",
    "plt.show()"
   ]
  },
  {
   "cell_type": "code",
   "execution_count": null,
   "id": "floral-bracket",
   "metadata": {},
   "outputs": [],
   "source": []
  }
 ],
 "metadata": {
  "kernelspec": {
   "display_name": "venv_common",
   "language": "python",
   "name": "venv_common"
  },
  "language_info": {
   "codemirror_mode": {
    "name": "ipython",
    "version": 3
   },
   "file_extension": ".py",
   "mimetype": "text/x-python",
   "name": "python",
   "nbconvert_exporter": "python",
   "pygments_lexer": "ipython3",
   "version": "3.8.10"
  }
 },
 "nbformat": 4,
 "nbformat_minor": 5
}
