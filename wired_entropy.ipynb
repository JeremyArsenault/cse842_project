{
 "cells": [
  {
   "cell_type": "markdown",
   "id": "adf6fd54-5c89-4f47-9028-7ea9297bed19",
   "metadata": {},
   "source": [
    "# Examine Local Entropy of and Conditional Entropy of Wired Examples\n",
    "*******************\n",
    "\n",
    "TODO:\n",
    "- clean wired text\n",
    "- conditional entropy calculation\n",
    "- implement continuous entropy approx\n",
    "- different datasets"
   ]
  },
  {
   "cell_type": "code",
   "execution_count": 1,
   "id": "bedf0f68-9c5b-493d-80c1-456c75941419",
   "metadata": {},
   "outputs": [],
   "source": [
    "import torch\n",
    "import numpy as np\n",
    "import matplotlib.pyplot as plt\n",
    "from transformers import GPT2Tokenizer, GPT2LMHeadModel"
   ]
  },
  {
   "cell_type": "code",
   "execution_count": 2,
   "id": "03dd8f75-a88a-479c-9026-50d1811ef8dd",
   "metadata": {},
   "outputs": [],
   "source": [
    "# load model \n",
    "# https://huggingface.co/transformers/v4.8.2/_modules/transformers/models/gpt2/modeling_gpt2.html\n",
    "tokenizer = GPT2Tokenizer.from_pretrained('gpt2')\n",
    "model = GPT2LMHeadModel.from_pretrained('gpt2')"
   ]
  },
  {
   "cell_type": "code",
   "execution_count": 3,
   "id": "98282d14-64c8-41c1-9311-65d170af01d5",
   "metadata": {},
   "outputs": [
    {
     "data": {
      "text/plain": [
       "\"Replace me by any text you'd like.\""
      ]
     },
     "execution_count": 3,
     "metadata": {},
     "output_type": "execute_result"
    }
   ],
   "source": [
    "# tokenizer example\n",
    "text = \"Replace me by any text you'd like.\"\n",
    "encoded_input = tokenizer(text, return_tensors='pt')\n",
    "tokenizer.decode(encoded_input['input_ids'][0])"
   ]
  },
  {
   "cell_type": "code",
   "execution_count": 4,
   "id": "63c6991f-234b-477d-a117-6e833a5e94f9",
   "metadata": {},
   "outputs": [
    {
     "name": "stdout",
     "output_type": "stream",
     "text": [
      "torch.Size([1, 10, 50257])\n"
     ]
    },
    {
     "data": {
      "text/plain": [
       "'. the with a means, want like.\\n'"
      ]
     },
     "execution_count": 4,
     "metadata": {},
     "output_type": "execute_result"
    }
   ],
   "source": [
    "# model example\n",
    "# https://huggingface.co/transformers/v4.8.2/main_classes/output.html?highlight=causallmoutputwithcrossattentions#transformers.modeling_outputs.CausalLMOutputWithCrossAttentions\n",
    "output = model(**encoded_input)\n",
    "print(output.logits.shape)\n",
    "best = torch.argmax(output.logits, dim=2)\n",
    "tokenizer.decode(best[0])"
   ]
  },
  {
   "cell_type": "code",
   "execution_count": 15,
   "id": "ac796d0e-20f0-451e-b45b-659b3ab53147",
   "metadata": {},
   "outputs": [],
   "source": [
    "# functions for local entropy calculation'\n",
    "\n",
    "def word_entropy(logits, k):\n",
    "    \"\"\"entropy of conditinal distribution over each word\"\"\"\n",
    "    logits = torch.topk(logits, k).values # approx distribution using top k words\n",
    "    logits = logits.detach().numpy().astype(np.longdouble)\n",
    "    p = 1/(1 + np.exp(-logits))\n",
    "    p = p / p.sum(axis=2, keepdims=True) # rescale distribution\n",
    "    entropy = (-p*np.log(p)).sum(axis=2)\n",
    "    return entropy\n",
    "\n",
    "def word_entropy_cont(logits, k=500):\n",
    "    \"\"\"entropy of conditinal distribution over each word assuming power law probability distribution\"\"\"\n",
    "    pass\n",
    "\n",
    "def local_entropy(logits, k=500, n=5):\n",
    "    \"\"\"average word entropy, ignoring first n words\"\"\"\n",
    "    we = word_entropy(logits, k)\n",
    "    return we[0][n:].mean() if len(we[0][n:])>0 else None"
   ]
  },
  {
   "cell_type": "code",
   "execution_count": 10,
   "id": "a8525856-9a5f-465f-805c-bc52261fa3ab",
   "metadata": {},
   "outputs": [
    {
     "data": {
      "text/plain": [
       "[\"do you know why we're here today because we're talking about science yes we're going to talk about science and we're going to talk about a very specific kind of science about people who study brains do you know what a brain is what is it things um so what we're going to talk about this is something that people study in the brain called the connect tone do you know that your body is made up of really tiny things called cells um yes okay well there's more cells in your brain like way more cells than than all the stars we can see and so what the connectome is is we'd like to know where every cell in your brain is and how it talks to every other cell in your brain that was awesome daniel thank you\"]"
      ]
     },
     "execution_count": 10,
     "metadata": {},
     "output_type": "execute_result"
    }
   ],
   "source": [
    "from pathlib import Path\n",
    "import re\n",
    "\n",
    "# text loading / preprocessing\n",
    "def get_text(level, episode, season, seq_len=700, overlap=20):\n",
    "    # load text\n",
    "    file = f\"wired_transcript/s{season}e{episode}/{level}.txt\"\n",
    "    txt = Path(file).read_text()\n",
    "    \n",
    "    # clean text\n",
    "    txt = re.sub('\\n', ' ', txt)\n",
    "    txt_arry = txt.split()\n",
    "    # chunk and return\n",
    "    chunks = []\n",
    "    i = 0\n",
    "    while i<len(txt_arry):\n",
    "        chunks.append(' '.join(txt_arry[i:i+seq_len]))\n",
    "        i += seq_len - overlap\n",
    "    return chunks\n",
    "\n",
    "get_text(1,1,1)"
   ]
  },
  {
   "cell_type": "markdown",
   "id": "9acc3e1d-e401-4c71-b2ed-48cc8c41e8ee",
   "metadata": {},
   "source": [
    "*************\n",
    "### local entropy vs. level"
   ]
  },
  {
   "cell_type": "code",
   "execution_count": 16,
   "id": "9c6d2fc1-9bc1-4b96-81aa-769ea557921d",
   "metadata": {},
   "outputs": [
    {
     "name": "stdout",
     "output_type": "stream",
     "text": [
      "episode 20\r"
     ]
    }
   ],
   "source": [
    "# compute local entropy for each level of each episode\n",
    "episodes = [(e+1,1) for e in range(20)]\n",
    "\n",
    "hist = []\n",
    "for e, s in episodes: # for each episode\n",
    "    print(f'episode {e}', end='\\r')\n",
    "    ep_ents = []\n",
    "    for lvl in range(5): # for each level\n",
    "        txts = get_text(lvl+1, e, 1)\n",
    "        ent, n = 0, 0\n",
    "        for txt in txts: # chunked text\n",
    "            logits = model(**tokenizer(txt, return_tensors='pt')).logits # get word logits\n",
    "            le = local_entropy(logits) # get local entropy\n",
    "            if le:\n",
    "                ent += le\n",
    "                n += 1\n",
    "        ep_ents.append(ent/n)\n",
    "    hist.append(ep_ents)"
   ]
  },
  {
   "cell_type": "code",
   "execution_count": 17,
   "id": "73dcad4e-69f2-4d6b-8aaa-62ba4dc555e5",
   "metadata": {},
   "outputs": [
    {
     "name": "stdout",
     "output_type": "stream",
     "text": [
      "0.04129127904530416\n"
     ]
    },
    {
     "data": {
      "image/png": "[encoded data removed]",
      "text/plain": [
       "<Figure size 432x288 with 1 Axes>"
      ]
     },
     "metadata": {
      "needs_background": "light"
     },
     "output_type": "display_data"
    }
   ],
   "source": [
    "# plot results\n",
    "fig, ax = plt.subplots()\n",
    "\n",
    "# get best fit line\n",
    "x, y = [], []\n",
    "for ep in hist[:-1]:\n",
    "    for i in range(5):\n",
    "        x.append((i, 1))\n",
    "        y.append(ep[i])\n",
    "m, c = np.linalg.lstsq(np.array(x).astype(float), np.array(y).astype(float), rcond=None)[0]\n",
    "print(m)\n",
    "\n",
    "# data points\n",
    "x = np.arange(5)\n",
    "for ep in hist:\n",
    "    ax.scatter(x, ep)\n",
    "# best fit line\n",
    "ax.plot(x, m*x+c)\n",
    "    \n",
    "plt.show()"
   ]
  },
  {
   "cell_type": "code",
   "execution_count": null,
   "id": "7a58c13b-2b27-4f04-a598-84c8971621ce",
   "metadata": {},
   "outputs": [],
   "source": []
  }
 ],
 "metadata": {
  "kernelspec": {
   "display_name": "venv_common",
   "language": "python",
   "name": "venv_common"
  },
  "language_info": {
   "codemirror_mode": {
    "name": "ipython",
    "version": 3
   },
   "file_extension": ".py",
   "mimetype": "text/x-python",
   "name": "python",
   "nbconvert_exporter": "python",
   "pygments_lexer": "ipython3",
   "version": "3.8.10"
  }
 },
 "nbformat": 4,
 "nbformat_minor": 5
}
