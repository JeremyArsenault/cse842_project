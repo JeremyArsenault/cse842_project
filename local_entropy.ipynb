{
 "cells": [
  {
   "cell_type": "markdown",
   "id": "adf6fd54-5c89-4f47-9028-7ea9297bed19",
   "metadata": {},
   "source": [
    "# Exploratory NB for Local Entropy Quantity\n",
    "*******************\n",
    "\n",
    "Word entropy is the entropy of the distribution given the full sequence history. **Local entropy** of a sequence is the average word entropy of a sequence. Estimated using logits from pretrained GPT3 model.\n",
    "\n",
    "### Wired Dataset\n",
    "\n",
    "The [wired dataset](https://www.youtube.com/playlist?list=PLibNZv5Zd0dyCoQ6f4pdXUFnpAIlKgm3N) is a very small collection of transcripts of a YouTube series where an expert explains a topic to audiences of different experience levels. **Results:** High variation in local entropy across topics means local entropy alone isn't a reliable indicator of target audience experience level. Within a topic, was able to order 70% of episodes correctly when ordering by increasing local entropy. These results appear impressive but are not very strong due to the size and quality of the dataset.\n",
    "\n",
    "\n",
    "### Blog Age Dataset\n",
    "\n",
    "The [blog age dataset](https://u.cs.biu.ac.il/~schlerj/schler_springsymp06.pdf) is a collection of blog posts with age and gender information. **Results:** There appears to be a weak relationship between age or gender of poster and local entropy. Mean / variance accross set may be an interesting statistic when looking at many blog posts of the same age / type.\n",
    "\n",
    "\n",
    "### Essay Scoring Dataset\n",
    "\n",
    "The essay scores dataset ([ASAP](https://arxiv.org/pdf/2205.03835v2.pdf)) is a collection short essays and respective scores. **Results:** There appears to be a weak relationship between age of poster and local entropy. Mean / variance accross set may be an interesting statistic when looking at many essays of the same age / type.\n",
    "\n",
    "\n",
    "*******************\n",
    "TODO:\n",
    "- clean wired text\n",
    "- implement continuous entropy approx\n",
    "- more datasets\n",
    "- consider statistics accoss sets of text"
   ]
  },
  {
   "cell_type": "code",
   "execution_count": 7,
   "id": "bedf0f68-9c5b-493d-80c1-456c75941419",
   "metadata": {},
   "outputs": [],
   "source": [
    "import torch\n",
    "import numpy as np\n",
    "import matplotlib.pyplot as plt\n",
    "import pickle as pkl\n",
    "from transformers import GPT2Tokenizer, GPT2LMHeadModel"
   ]
  },
  {
   "cell_type": "code",
   "execution_count": 2,
   "id": "03dd8f75-a88a-479c-9026-50d1811ef8dd",
   "metadata": {},
   "outputs": [],
   "source": [
    "# load model \n",
    "# https://huggingface.co/transformers/v4.8.2/_modules/transformers/models/gpt2/modeling_gpt2.html\n",
    "tokenizer = GPT2Tokenizer.from_pretrained('gpt2')\n",
    "model = GPT2LMHeadModel.from_pretrained('gpt2')"
   ]
  },
  {
   "cell_type": "code",
   "execution_count": 3,
   "id": "98282d14-64c8-41c1-9311-65d170af01d5",
   "metadata": {},
   "outputs": [
    {
     "data": {
      "text/plain": [
       "\"Replace me by any text you'd like.\""
      ]
     },
     "execution_count": 3,
     "metadata": {},
     "output_type": "execute_result"
    }
   ],
   "source": [
    "# tokenizer example\n",
    "text = \"Replace me by any text you'd like.\"\n",
    "encoded_input = tokenizer(text, return_tensors='pt')\n",
    "tokenizer.decode(encoded_input['input_ids'][0])"
   ]
  },
  {
   "cell_type": "code",
   "execution_count": 4,
   "id": "63c6991f-234b-477d-a117-6e833a5e94f9",
   "metadata": {},
   "outputs": [
    {
     "name": "stdout",
     "output_type": "stream",
     "text": [
      "torch.Size([1, 10, 50257])\n"
     ]
    },
    {
     "data": {
      "text/plain": [
       "'. the with a means, want like.\\n'"
      ]
     },
     "execution_count": 4,
     "metadata": {},
     "output_type": "execute_result"
    }
   ],
   "source": [
    "# model example\n",
    "# https://huggingface.co/transformers/v4.8.2/main_classes/output.html?highlight=causallmoutputwithcrossattentions#transformers.modeling_outputs.CausalLMOutputWithCrossAttentions\n",
    "output = model(**encoded_input)\n",
    "print(output.logits.shape)\n",
    "best = torch.argmax(output.logits, dim=2)\n",
    "tokenizer.decode(best[0])"
   ]
  },
  {
   "cell_type": "code",
   "execution_count": 74,
   "id": "ac796d0e-20f0-451e-b45b-659b3ab53147",
   "metadata": {},
   "outputs": [],
   "source": [
    "# functions for local entropy calculation'\n",
    "\n",
    "def word_entropy(logits, k):\n",
    "    \"\"\"entropy of conditinal distribution over each word\"\"\"\n",
    "    logits = torch.topk(logits, k).values # approx distribution using top k words\n",
    "    logits = logits.detach().numpy().astype(np.longdouble)\n",
    "    p = 1/(1 + np.exp(-logits))\n",
    "    p = p / p.sum(axis=2, keepdims=True) # rescale distribution\n",
    "    entropy = (-p*np.log(p)).sum(axis=2)\n",
    "    return entropy\n",
    "\n",
    "def word_entropy_cont(logits, k=500):\n",
    "    \"\"\"entropy of conditinal distribution over each word assuming power law probability distribution\"\"\"\n",
    "    pass\n",
    "\n",
    "def local_entropy(logits, k=500, n=5):\n",
    "    \"\"\"average word entropy, ignoring first n words\"\"\"\n",
    "    we = word_entropy(logits, k)\n",
    "    if len(we[0][n:])>0:\n",
    "        return we[0][n:].mean(), we[0][n:].std()\n",
    "    return None, None"
   ]
  },
  {
   "cell_type": "markdown",
   "id": "c99090c8-f0fc-42a3-aeea-a6a9bff6d9b5",
   "metadata": {},
   "source": [
    "*******************\n",
    "### Wired Dataset:"
   ]
  },
  {
   "cell_type": "code",
   "execution_count": 41,
   "id": "a8525856-9a5f-465f-805c-bc52261fa3ab",
   "metadata": {},
   "outputs": [
    {
     "data": {
      "text/plain": [
       "[\"do you know why we're here today because we're talking about science yes we're going to talk about science and we're going to talk about a very specific kind of science about people who study brains do you know what a brain is what is it things um so what we're going to talk about this is something that people study in the brain called the connect tone do you know that your body is made up of really tiny things called cells um yes okay well there's more cells in your brain like way more cells than than all the stars we can see and so what the connectome is is we'd like to know where every cell in your brain is and how it talks to every other cell in your brain that was awesome daniel thank you\"]"
      ]
     },
     "execution_count": 41,
     "metadata": {},
     "output_type": "execute_result"
    }
   ],
   "source": [
    "# load wired data\n",
    "from pathlib import Path\n",
    "import re\n",
    "\n",
    "# text chunking for gpt\n",
    "def chunk_text(txt, seq_len=800, overlap=20):\n",
    "    txt_arry = txt.split()\n",
    "    # chunk and return\n",
    "    chunks = []\n",
    "    i = 0\n",
    "    while i<len(txt_arry):\n",
    "        chunks.append(' '.join(txt_arry[i:i+seq_len]))\n",
    "        i += seq_len - overlap\n",
    "    return chunks\n",
    "\n",
    "# text loading / preprocessing\n",
    "def get_text(level, episode, season):\n",
    "    # load text\n",
    "    file = f\"wired_transcript/s{season}e{episode}/{level}.txt\"\n",
    "    txt = Path(file).read_text()\n",
    "    \n",
    "    # clean text\n",
    "    txt = re.sub('\\n', ' ', txt)\n",
    "    \n",
    "    # chunk and return\n",
    "    return chunk_text(txt)\n",
    "\n",
    "get_text(1,1,1)"
   ]
  },
  {
   "cell_type": "code",
   "execution_count": 75,
   "id": "9c6d2fc1-9bc1-4b96-81aa-769ea557921d",
   "metadata": {},
   "outputs": [
    {
     "name": "stdout",
     "output_type": "stream",
     "text": [
      "episode 20\r"
     ]
    }
   ],
   "source": [
    "# compute local entropy on wired data\n",
    "episodes = [(e+1,1) for e in range(20)]\n",
    "\n",
    "hist, hist_std = [], []\n",
    "for e, s in episodes: # for each episode\n",
    "    print(f'episode {e}', end='\\r')\n",
    "    ep_ents, ep_stds = [], []\n",
    "    for lvl in range(5): # for each level\n",
    "        txts = get_text(lvl+1, e, 1)\n",
    "        ent, std, n = 0, 0, 0\n",
    "        for txt in txts: # chunked text\n",
    "            logits = model(**tokenizer(txt, return_tensors='pt', max_length=1024, truncation=True)).logits # get word logits\n",
    "            le, le_std = local_entropy(logits) # get local entropy\n",
    "            if le:\n",
    "                ent += le\n",
    "                std += le_std\n",
    "                n += 1\n",
    "        ep_ents.append(ent/n)\n",
    "        ep_stds.append(std/n)\n",
    "    hist.append(ep_ents)\n",
    "    hist_std.append(ep_stds)\n",
    "\n",
    "# save results\n",
    "with open(\"wired_transcript/le.pkl\", \"wb\") as f:\n",
    "    pkl.dump((hist, hist_std), f)"
   ]
  },
  {
   "cell_type": "code",
   "execution_count": 76,
   "id": "e67c63eb-f7dc-4f80-b8e9-ce06aafcb41a",
   "metadata": {},
   "outputs": [],
   "source": [
    "with open(\"wired_transcript/le.pkl\", \"rb\") as f:\n",
    "    hist, hist_std = pkl.load(f)"
   ]
  },
  {
   "cell_type": "code",
   "execution_count": 82,
   "id": "73dcad4e-69f2-4d6b-8aaa-62ba4dc555e5",
   "metadata": {},
   "outputs": [
    {
     "name": "stdout",
     "output_type": "stream",
     "text": [
      "0.04373808481578903\n",
      "0.0037242203585634986\n"
     ]
    },
    {
     "data": {
      "image/png": "[encoded data removed]",
      "text/plain": [
       "<Figure size 864x288 with 2 Axes>"
      ]
     },
     "metadata": {
      "needs_background": "light"
     },
     "output_type": "display_data"
    }
   ],
   "source": [
    "# plot results\n",
    "fig, axs = plt.subplots(1,2, figsize=(12,4))\n",
    "\n",
    "for ax, xi, t in zip(axs, [hist, hist_std], ['ent', 'ent std']):\n",
    "    # get best fit line\n",
    "    x, y = [], []\n",
    "    for ep in xi:\n",
    "        for i in range(5):\n",
    "            x.append((i, 1))\n",
    "            y.append(ep[i])\n",
    "    m, c = np.linalg.lstsq(np.array(x).astype(float), np.array(y).astype(float), rcond=None)[0]\n",
    "    print(m)\n",
    "\n",
    "    # data points\n",
    "    x = np.arange(5)\n",
    "    for ep in xi:\n",
    "        ax.scatter(x, ep)\n",
    "    # best fit line\n",
    "    ax.plot(x, m*x+c)\n",
    "    \n",
    "    ax.set_title(t)\n",
    "    \n",
    "plt.show()"
   ]
  },
  {
   "cell_type": "code",
   "execution_count": 83,
   "id": "7a58c13b-2b27-4f04-a598-84c8971621ce",
   "metadata": {},
   "outputs": [
    {
     "data": {
      "text/plain": [
       "0.6375"
      ]
     },
     "execution_count": 83,
     "metadata": {},
     "output_type": "execute_result"
    }
   ],
   "source": [
    "# predict order within subject using local entropy scores\n",
    "# get pct of correctly ordered episodes\n",
    "correct, total = 0, 0\n",
    "\n",
    "gt = np.arange(5)\n",
    "for ep in hist:\n",
    "    x = np.array(ep)\n",
    "    d = x[1:]-x[:-1]\n",
    "    s = d>0\n",
    "    correct += s.sum()\n",
    "    total += len(s)\n",
    "    \n",
    "correct / total"
   ]
  },
  {
   "cell_type": "markdown",
   "id": "225146c2-6169-4956-a858-75ee6202a35c",
   "metadata": {},
   "source": [
    "******************\n",
    "### Blog Dataset"
   ]
  },
  {
   "cell_type": "code",
   "execution_count": 84,
   "id": "f565a1d5-08c4-48e8-bfce-77da576c9a8b",
   "metadata": {},
   "outputs": [
    {
     "data": {
      "text/plain": [
       "{'post': 'Thabo admits defeat on quiet diplomacy  Mbeki  urlLink stated  yesterday that his policy of quiet diplomacy on Zimbabwe has been a failure. Speaking through presidential spokesperson Bheki Khumalo, he said that the talks between the Zanu-PF and MDC were \\'too slow\\' and that no progress had been made on the issue.  However, Mbeki also stated that he would \"press on with his diplomatic efforts in Zimbabwe despite fierce criticism, because he still believed there was no alternative to dialogue.\" These is a confusing sentiment. There are many political alternatives to dialogue that include simple public censure and economic pressure.  Mbeki has largely based himself as a foreign policy president, particularly in his first term, and to gain any credibility for NEPAD and his other strong foreign policy initiatives, he must take action on Zimbabwe. After his softening position on AIDS, it is the one factor in his presidency that the world still cannot understand. Struggle friends or not, a dictator is a dictator whatever the historical context, and Mbeki has to show his leadership and take action after this acknolwedgement. Will it happen? Probably not...',\n",
       " 'age': '27',\n",
       " 'gender': 'male'}"
      ]
     },
     "execution_count": 84,
     "metadata": {},
     "output_type": "execute_result"
    }
   ],
   "source": [
    "# load age + text data\n",
    "import json\n",
    "\n",
    "with open('blog_age/test.json') as f:\n",
    "    data = json.load(f)\n",
    "data[0]"
   ]
  },
  {
   "cell_type": "code",
   "execution_count": 87,
   "id": "bad2cb43-3656-4c70-a9d5-ce030a1d5773",
   "metadata": {},
   "outputs": [
    {
     "name": "stdout",
     "output_type": "stream",
     "text": [
      "post 199\r"
     ]
    }
   ],
   "source": [
    "# compute local entropy on blog data\n",
    "num_posts = 200\n",
    "\n",
    "ents, ents_std, age, gender = [], [], [], []\n",
    "for i,d in enumerate(data[:num_posts]): # for each post\n",
    "    print(f'post {i}', end='\\r')\n",
    "    p, a, g = d['post'], d['age'], d['gender']\n",
    "\n",
    "    # do entropy calc\n",
    "    ent, ent_std, n = 0, 0, 0\n",
    "    for txt in chunk_text(p): # chunked text\n",
    "        logits = model(**tokenizer(txt, return_tensors='pt', max_length=1024, truncation=True)).logits # get word logits\n",
    "        le, le_std = local_entropy(logits) # get local entropy\n",
    "        if le:\n",
    "            ent += le\n",
    "            ent_std += le_std\n",
    "            n += 1\n",
    "            \n",
    "    if n:\n",
    "        ents.append(ent/n)\n",
    "        ents_std.append(ent_std/n)\n",
    "        age.append(a)\n",
    "        gender.append(g)\n",
    "\n",
    "# save results\n",
    "with open(\"blog_age/le.pkl\", \"wb\") as f:\n",
    "    pkl.dump((ents, ents_std, age, gender), f)"
   ]
  },
  {
   "cell_type": "code",
   "execution_count": 88,
   "id": "9703eeea-803d-4ee4-840d-47a15365e75b",
   "metadata": {},
   "outputs": [],
   "source": [
    "with open(\"blog_age/le.pkl\", \"rb\") as f:\n",
    "    ents, ents_std, age, gender = pkl.load(f)"
   ]
  },
  {
   "cell_type": "code",
   "execution_count": 89,
   "id": "76334c8c-82c7-42a4-a6d9-508406e3f30b",
   "metadata": {},
   "outputs": [
    {
     "name": "stdout",
     "output_type": "stream",
     "text": [
      "-0.010611669967023571\n",
      "0.004663067024501555\n"
     ]
    },
    {
     "data": {
      "image/png": "[encoded data removed]",
      "text/plain": [
       "<Figure size 864x288 with 2 Axes>"
      ]
     },
     "metadata": {
      "needs_background": "light"
     },
     "output_type": "display_data"
    }
   ],
   "source": [
    "# plot results\n",
    "fig, axs = plt.subplots(1,2, figsize=(12,4))\n",
    "\n",
    "for ax, xi, t in zip(axs, [ents, ents_std], ['ent', 'ent std']):\n",
    "\n",
    "    # get best fit line\n",
    "    x, y = [], []\n",
    "    for e, a in zip(xi, age):\n",
    "        x.append((float(a), 1))\n",
    "        y.append(e)\n",
    "    m, c = np.linalg.lstsq(np.array(x).astype(float), np.array(y).astype(float), rcond=None)[0]\n",
    "    print(m)\n",
    "\n",
    "    # data points\n",
    "    for l in ['male','female']:\n",
    "        ax.scatter([int(age[i]) for i,g in enumerate(gender) if g==l], [xi[i] for i,g in enumerate(gender) if g==l], label=l)\n",
    "    # best fit line\n",
    "    x = np.arange(10,50)\n",
    "    ax.plot(x, m*x+c)\n",
    "    \n",
    "    ax.set_title(t)\n",
    "    \n",
    "plt.show()"
   ]
  },
  {
   "cell_type": "markdown",
   "id": "dbeec057-a1ff-49db-ab72-5ceeaf8ffd5f",
   "metadata": {},
   "source": [
    "***************\n",
    "### Essay Scores Dataset"
   ]
  },
  {
   "cell_type": "code",
   "execution_count": 90,
   "id": "b4b978ba-1e77-4f7f-89c6-bf12ebb4c185",
   "metadata": {},
   "outputs": [
    {
     "name": "stderr",
     "output_type": "stream",
     "text": [
      "Using custom data configuration Ericwang--ASAP-365c9c63a4af1585\n",
      "Reusing dataset parquet (/home/jeremy_arsenault/.cache/huggingface/datasets/parquet/Ericwang--ASAP-365c9c63a4af1585/0.0.0/0b6d5799bb726b24ad7fc7be720c170d8e497f575d02d47537de9a5bac074901)\n"
     ]
    },
    {
     "data": {
      "text/plain": [
       "{'essay': \"Dear local newspaper, I think effects computers have on people are great learning skills/affects because they give us time to chat with friends/new people, helps us learn about the globe(astronomy) and keeps us out of troble! Thing about! Dont you think so? How would you feel if your teenager is always on the phone with friends! Do you ever time to chat with your friends or buisness partner about things. Well now - there's a new way to chat the computer, theirs plenty of sites on the internet to do so: @ORGANIZATION1, @ORGANIZATION2, @CAPS1, facebook, myspace ect. Just think now while your setting up meeting with your boss on the computer, your teenager is having fun on the phone not rushing to get off cause you want to use it. How did you learn about other countrys/states outside of yours? Well I have by computer/internet, it's a new way to learn about what going on in our time! You might think your child spends a lot of time on the computer, but ask them so question about the economy, sea floor spreading or even about the @DATE1's you'll be surprise at how much he/she knows. Believe it or not the computer is much interesting then in class all day reading out of books. If your child is home on your computer or at a local library, it's better than being out with friends being fresh, or being perpressured to doing something they know isnt right. You might not know where your child is, @CAPS2 forbidde in a hospital bed because of a drive-by. Rather than your child on the computer learning, chatting or just playing games, safe and sound in your home or community place. Now I hope you have reached a point to understand and agree with me, because computers can have great effects on you or child because it gives us time to chat with friends/new people, helps us learn about the globe and believe or not keeps us out of troble. Thank you for listening.\",\n",
       " 'score': 6}"
      ]
     },
     "execution_count": 90,
     "metadata": {},
     "output_type": "execute_result"
    }
   ],
   "source": [
    "# load essay data\n",
    "from datasets import load_dataset\n",
    "\n",
    "data = load_dataset(\"Ericwang/ASAP\", split='1')\n",
    "data[0]"
   ]
  },
  {
   "cell_type": "code",
   "execution_count": 91,
   "id": "0337cac8-dfa3-4004-8e4a-cd041019e390",
   "metadata": {},
   "outputs": [
    {
     "name": "stdout",
     "output_type": "stream",
     "text": [
      "essay 199\r"
     ]
    }
   ],
   "source": [
    "# compute local entropy on blog data\n",
    "num_essays = 200\n",
    "\n",
    "ents, ents_std, score = [], [], []\n",
    "for i in range(min(num_essays, len(data))): # for each essay\n",
    "    print(f'essay {i}', end='\\r')\n",
    "    e, s = data[i]['essay'], data[i]['score']\n",
    "\n",
    "    # do entropy calc\n",
    "    ent, ent_std, n = 0, 0, 0\n",
    "    for txt in chunk_text(e): # chunked text\n",
    "        logits = model(**tokenizer(txt, return_tensors='pt', max_length=1024, truncation=True)).logits # get word logits\n",
    "        le, le_std = local_entropy(logits) # get local entropy\n",
    "        if le:\n",
    "            ent += le\n",
    "            ent_std += le_std\n",
    "            n += 1\n",
    "            \n",
    "    if n:\n",
    "        ents.append(ent/n)\n",
    "        ents_std.append(ent_std/n)\n",
    "        score.append(s)\n",
    "\n",
    "# save results\n",
    "with open(\"essay_scoring/le.pkl\", \"wb\") as f:\n",
    "    pkl.dump((ents, ents_std, score), f)"
   ]
  },
  {
   "cell_type": "code",
   "execution_count": 92,
   "id": "6b4b8ea8-60c3-44ab-ad03-b35cd80c865b",
   "metadata": {},
   "outputs": [],
   "source": [
    "with open(\"essay_scoring/le.pkl\", \"rb\") as f:\n",
    "    ents, ents_std, score = pkl.load(f)"
   ]
  },
  {
   "cell_type": "code",
   "execution_count": 93,
   "id": "309d9288-e200-4a84-a23b-7652a6e94202",
   "metadata": {},
   "outputs": [
    {
     "name": "stdout",
     "output_type": "stream",
     "text": [
      "-0.03188660066668329\n",
      "0.025022028026895734\n"
     ]
    },
    {
     "data": {
      "image/png": "[encoded data removed]",
      "text/plain": [
       "<Figure size 864x288 with 2 Axes>"
      ]
     },
     "metadata": {
      "needs_background": "light"
     },
     "output_type": "display_data"
    }
   ],
   "source": [
    "# plot results\n",
    "fig, axs = plt.subplots(1,2, figsize=(12,4))\n",
    "\n",
    "for ax, xi, t in zip(axs, [ents, ents_std], ['ent', 'ent std']):\n",
    "\n",
    "    # get best fit line\n",
    "    x, y = [], []\n",
    "    for e, s in zip(xi, score):\n",
    "        x.append((s, 1))\n",
    "        y.append(e)\n",
    "    m, c = np.linalg.lstsq(np.array(x).astype(float), np.array(y).astype(float), rcond=None)[0]\n",
    "    print(m)\n",
    "\n",
    "    # data points\n",
    "    ax.scatter(score, xi)\n",
    "    # best fit line\n",
    "    x = np.arange(10)\n",
    "    ax.plot(x, m*x+c)\n",
    "    \n",
    "plt.show()"
   ]
  },
  {
   "cell_type": "code",
   "execution_count": null,
   "id": "1acd59a3-c725-4fd0-8077-5cc3b524c679",
   "metadata": {},
   "outputs": [],
   "source": []
  }
 ],
 "metadata": {
  "kernelspec": {
   "display_name": "venv_common",
   "language": "python",
   "name": "venv_common"
  },
  "language_info": {
   "codemirror_mode": {
    "name": "ipython",
    "version": 3
   },
   "file_extension": ".py",
   "mimetype": "text/x-python",
   "name": "python",
   "nbconvert_exporter": "python",
   "pygments_lexer": "ipython3",
   "version": "3.8.10"
  }
 },
 "nbformat": 4,
 "nbformat_minor": 5
}
